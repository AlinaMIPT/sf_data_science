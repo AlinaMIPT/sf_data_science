{
 "cells": [
  {
   "cell_type": "markdown",
   "metadata": {
    "tags": []
   },
   "source": [
    "## 1. Постановка задачи"
   ]
  },
  {
   "cell_type": "markdown",
   "metadata": {},
   "source": [
    "<center> <img src=https://storage.googleapis.com/kaggle-competitions/kaggle/3333/media/taxi_meter.png align=\"right\" width=\"300\"/> </center>\n",
    "    \n",
    "Вам предстоит решить настоящую задачу машинного обучения, направленную на автоматизацию бизнес процессов. Мы построим модель, которая будет предсказывать общую продолжительность поездки такси в Нью-Йорке. \n",
    "\n",
    "Представьте вы заказываете такси из одной точки Нью-Йорка в другую, причем не обязательно конечная точка должна находиться в пределах города. Сколько вы должны будете за нее заплатить? Известно, что стоимость такси в США  рассчитывается на основе фиксированной ставки + тарифная стоимость, величина которой зависит от времени и расстояния. Тарифы варьируются в зависимости от города.\n",
    "\n",
    "В свою очередь время поездки зависит от множества факторов таких как, откуда и куда вы едете, в какое время суток вы совершаете вашу поездку, погодных условий и так далее. \n",
    "\n",
    "Таким образом, если мы разработаем алгоритм, способный определять длительность поездки, мы сможем прогнозировать ее стоимость самым тривиальным образом, например, просто умножая стоимость на заданный тариф. \n",
    "Сервисы такси хранят огромные объёмы информации о поездках, включая такие данные как конечная, начальная точка маршрута, дата поездки и ее длительность. Эти данные можно использовать для того, чтобы прогнозировать длительность поездки в автоматическом режиме с привлечением искусственного интеллекта.\n",
    "\n",
    "**Бизнес-задача:** определить характеристики и с их помощью спрогнозировать длительность поездки такси.\n",
    "\n",
    "**Техническая задача для вас как для специалиста в Data Science:** построить модель машинного обучения, которая на основе предложенных характеристик клиента будет предсказывать числовой признак - время поездки такси. То есть решить задачу регрессии.\n",
    "\n",
    "**Основные цели проекта:**\n",
    "1. Сформировать набор данных на основе нескольких источников информации\n",
    "2. Спроектировать новые признаки с помощью Feature Engineering и выявить наиболее значимые при построении модели\n",
    "3. Исследовать предоставленные данные и выявить закономерности\n",
    "4. Построить несколько моделей и выбрать из них наилучшую по заданной метрике\n",
    "5. Спроектировать процесс предсказания времени длительности поездки для новых данных\n",
    "\n",
    "Загрузить свое решение на платформу Kaggle, тем самым поучаствовав в настоящем Data Science соревновании.\n",
    "Во время выполнения проекта вы отработаете навыки работы с несколькими источниками данных, генерации признаков, разведывательного анализа и визуализации данных, отбора признаков и, конечно же, построения моделей машинного обучения!\n"
   ]
  },
  {
   "cell_type": "markdown",
   "metadata": {
    "tags": []
   },
   "source": [
    "## 2. Знакомство с данными, базовый анализ и расширение данных"
   ]
  },
  {
   "cell_type": "markdown",
   "metadata": {},
   "source": [
    "Начнём наше исследование со знакомства с предоставленными данными. А также подгрузим дополнительные источники данных и расширим наш исходный датасет. \n"
   ]
  },
  {
   "cell_type": "markdown",
   "metadata": {},
   "source": [
    "Заранее импортируем модули, которые нам понадобятся для решения задачи:"
   ]
  },
  {
   "cell_type": "code",
   "execution_count": 101,
   "metadata": {},
   "outputs": [],
   "source": [
    "import numpy as np\n",
    "import pandas as pd\n",
    "import matplotlib.pyplot as plt\n",
    "import seaborn as sns\n",
    "import plotly.express as px\n",
    "\n",
    "from scipy import stats\n",
    "from sklearn import linear_model\n",
    "from sklearn import preprocessing\n",
    "from sklearn import model_selection\n",
    "from sklearn import tree\n",
    "from sklearn import ensemble\n",
    "from sklearn import metrics\n",
    "from sklearn import cluster\n",
    "from sklearn import feature_selection\n",
    "from sklearn.preprocessing import OneHotEncoder\n",
    "from sklearn.feature_selection import SelectKBest, f_regression\n",
    "from sklearn.preprocessing import MinMaxScaler"
   ]
  },
  {
   "cell_type": "markdown",
   "metadata": {},
   "source": [
    "Прочитаем наш файл с исходными данными:"
   ]
  },
  {
   "cell_type": "code",
   "execution_count": 18,
   "metadata": {
    "_cell_guid": "79c7e3d0-c299-4dcb-8224-4455121ee9b0",
    "_uuid": "d629ff2d2480ee46fbb7e2d37f6b5fab8052498a",
    "tags": []
   },
   "outputs": [
    {
     "name": "stdout",
     "output_type": "stream",
     "text": [
      "Train data shape: (1458644, 11)\n"
     ]
    },
    {
     "data": {
      "text/html": [
       "<div>\n",
       "<style scoped>\n",
       "    .dataframe tbody tr th:only-of-type {\n",
       "        vertical-align: middle;\n",
       "    }\n",
       "\n",
       "    .dataframe tbody tr th {\n",
       "        vertical-align: top;\n",
       "    }\n",
       "\n",
       "    .dataframe thead th {\n",
       "        text-align: right;\n",
       "    }\n",
       "</style>\n",
       "<table border=\"1\" class=\"dataframe\">\n",
       "  <thead>\n",
       "    <tr style=\"text-align: right;\">\n",
       "      <th></th>\n",
       "      <th>id</th>\n",
       "      <th>vendor_id</th>\n",
       "      <th>pickup_datetime</th>\n",
       "      <th>dropoff_datetime</th>\n",
       "      <th>passenger_count</th>\n",
       "      <th>pickup_longitude</th>\n",
       "      <th>pickup_latitude</th>\n",
       "      <th>dropoff_longitude</th>\n",
       "      <th>dropoff_latitude</th>\n",
       "      <th>store_and_fwd_flag</th>\n",
       "      <th>trip_duration</th>\n",
       "    </tr>\n",
       "  </thead>\n",
       "  <tbody>\n",
       "    <tr>\n",
       "      <th>0</th>\n",
       "      <td>id2875421</td>\n",
       "      <td>2</td>\n",
       "      <td>2016-03-14 17:24:55</td>\n",
       "      <td>2016-03-14 17:32:30</td>\n",
       "      <td>1</td>\n",
       "      <td>-73.982155</td>\n",
       "      <td>40.767937</td>\n",
       "      <td>-73.964630</td>\n",
       "      <td>40.765602</td>\n",
       "      <td>N</td>\n",
       "      <td>455</td>\n",
       "    </tr>\n",
       "    <tr>\n",
       "      <th>1</th>\n",
       "      <td>id2377394</td>\n",
       "      <td>1</td>\n",
       "      <td>2016-06-12 00:43:35</td>\n",
       "      <td>2016-06-12 00:54:38</td>\n",
       "      <td>1</td>\n",
       "      <td>-73.980415</td>\n",
       "      <td>40.738564</td>\n",
       "      <td>-73.999481</td>\n",
       "      <td>40.731152</td>\n",
       "      <td>N</td>\n",
       "      <td>663</td>\n",
       "    </tr>\n",
       "    <tr>\n",
       "      <th>2</th>\n",
       "      <td>id3858529</td>\n",
       "      <td>2</td>\n",
       "      <td>2016-01-19 11:35:24</td>\n",
       "      <td>2016-01-19 12:10:48</td>\n",
       "      <td>1</td>\n",
       "      <td>-73.979027</td>\n",
       "      <td>40.763939</td>\n",
       "      <td>-74.005333</td>\n",
       "      <td>40.710087</td>\n",
       "      <td>N</td>\n",
       "      <td>2124</td>\n",
       "    </tr>\n",
       "    <tr>\n",
       "      <th>3</th>\n",
       "      <td>id3504673</td>\n",
       "      <td>2</td>\n",
       "      <td>2016-04-06 19:32:31</td>\n",
       "      <td>2016-04-06 19:39:40</td>\n",
       "      <td>1</td>\n",
       "      <td>-74.010040</td>\n",
       "      <td>40.719971</td>\n",
       "      <td>-74.012268</td>\n",
       "      <td>40.706718</td>\n",
       "      <td>N</td>\n",
       "      <td>429</td>\n",
       "    </tr>\n",
       "    <tr>\n",
       "      <th>4</th>\n",
       "      <td>id2181028</td>\n",
       "      <td>2</td>\n",
       "      <td>2016-03-26 13:30:55</td>\n",
       "      <td>2016-03-26 13:38:10</td>\n",
       "      <td>1</td>\n",
       "      <td>-73.973053</td>\n",
       "      <td>40.793209</td>\n",
       "      <td>-73.972923</td>\n",
       "      <td>40.782520</td>\n",
       "      <td>N</td>\n",
       "      <td>435</td>\n",
       "    </tr>\n",
       "  </tbody>\n",
       "</table>\n",
       "</div>"
      ],
      "text/plain": [
       "          id  vendor_id      pickup_datetime     dropoff_datetime  \\\n",
       "0  id2875421          2  2016-03-14 17:24:55  2016-03-14 17:32:30   \n",
       "1  id2377394          1  2016-06-12 00:43:35  2016-06-12 00:54:38   \n",
       "2  id3858529          2  2016-01-19 11:35:24  2016-01-19 12:10:48   \n",
       "3  id3504673          2  2016-04-06 19:32:31  2016-04-06 19:39:40   \n",
       "4  id2181028          2  2016-03-26 13:30:55  2016-03-26 13:38:10   \n",
       "\n",
       "   passenger_count  pickup_longitude  pickup_latitude  dropoff_longitude  \\\n",
       "0                1        -73.982155        40.767937         -73.964630   \n",
       "1                1        -73.980415        40.738564         -73.999481   \n",
       "2                1        -73.979027        40.763939         -74.005333   \n",
       "3                1        -74.010040        40.719971         -74.012268   \n",
       "4                1        -73.973053        40.793209         -73.972923   \n",
       "\n",
       "   dropoff_latitude store_and_fwd_flag  trip_duration  \n",
       "0         40.765602                  N            455  \n",
       "1         40.731152                  N            663  \n",
       "2         40.710087                  N           2124  \n",
       "3         40.706718                  N            429  \n",
       "4         40.782520                  N            435  "
      ]
     },
     "execution_count": 18,
     "metadata": {},
     "output_type": "execute_result"
    }
   ],
   "source": [
    "taxi_data = pd.read_csv(\"Project5_train_data.zip\")\n",
    "print('Train data shape: {}'.format(taxi_data.shape))\n",
    "taxi_data.head()"
   ]
  },
  {
   "cell_type": "markdown",
   "metadata": {},
   "source": [
    "Итак, у нас с вами есть данные о почти 1.5 миллионах поездок и 11 характеристиках, которые описывают каждую из поездок. "
   ]
  },
  {
   "cell_type": "markdown",
   "metadata": {},
   "source": [
    "Мы условно разделили признаки нескольких групп. Каждой из групп мы в дальнейшем уделим отдельное внимание.\n",
    "\n",
    "**Данные о клиенте и таксопарке:**\n",
    "* id - уникальный идентификатор поездки\n",
    "* vendor_id - уникальный идентификатор поставщика (таксопарка), связанного с записью поездки\n",
    "\n",
    "**Временные характеристики:**\n",
    "* pickup_datetime - дата и время, когда был включен счетчик поездки\n",
    "* dropoff_datetime - дата и время, когда счетчик был отключен\n",
    "\n",
    "**Географическая информация:**\n",
    "* pickup_longitude -  долгота, на которой был включен счетчик\n",
    "* pickup_latitude - широта, на которой был включен счетчик\n",
    "* dropoff_longitude - долгота, на которой счетчик был отключен\n",
    "* dropoff_latitude - широта, на которой счетчик был отключен\n",
    "\n",
    "**Прочие признаки:**\n",
    "* passenger_count - количество пассажиров в транспортном средстве (введенное водителем значение)\n",
    "* store_and_fwd_flag - флаг, который указывает, сохранилась ли запись о поездке в памяти транспортного средства перед отправкой поставщику. Y - хранить и пересылать, N - не хранить и не пересылать поездку.\n",
    "\n",
    "**Целевой признак:**\n",
    "* trip_duration - продолжительность поездки в секундах\n"
   ]
  },
  {
   "cell_type": "markdown",
   "metadata": {},
   "source": [
    "Для начала мы проведем базовый анализ того, насколько данные готовы к дальнейшей предобработке и анализу. "
   ]
  },
  {
   "cell_type": "markdown",
   "metadata": {},
   "source": [
    "### Задание 2.1\n",
    "Для начала посмотрим на временные рамки, в которых мы работаем с данными.\n",
    "\n",
    "Переведите признак pickup_datetime в тип данных datetime с форматом год-месяц-день час:минута:секунда (в функции pd.to_datetime() параметр format='%Y-%m-%d %H:%M:%S'). \n",
    "\n",
    "Определите временные рамки (без учета времени), за которые представлены данные."
   ]
  },
  {
   "cell_type": "code",
   "execution_count": 19,
   "metadata": {},
   "outputs": [
    {
     "name": "stdout",
     "output_type": "stream",
     "text": [
      "Min: 2016-01-01 00:00:17\n",
      "Max: 2016-06-30 23:59:39\n"
     ]
    }
   ],
   "source": [
    "# ваш код здесь\n",
    "taxi_data['pickup_datetime'] = pd.to_datetime(taxi_data['pickup_datetime'],format = '%Y-%m-%d %H:%M:%S')\n",
    "print('Min: {}'.format(taxi_data['pickup_datetime'].min()))\n",
    "print('Max: {}'.format(taxi_data['pickup_datetime'].max()))"
   ]
  },
  {
   "cell_type": "markdown",
   "metadata": {},
   "source": [
    "### Задание 2.2\n",
    "Посмотрим на пропуски. \n",
    "Сколько пропущенных значений присутствует в данных (суммарно по всем столбцам таблицы)?"
   ]
  },
  {
   "cell_type": "code",
   "execution_count": 20,
   "metadata": {},
   "outputs": [
    {
     "data": {
      "text/plain": [
       "id                    0\n",
       "vendor_id             0\n",
       "pickup_datetime       0\n",
       "dropoff_datetime      0\n",
       "passenger_count       0\n",
       "pickup_longitude      0\n",
       "pickup_latitude       0\n",
       "dropoff_longitude     0\n",
       "dropoff_latitude      0\n",
       "store_and_fwd_flag    0\n",
       "trip_duration         0\n",
       "dtype: int64"
      ]
     },
     "execution_count": 20,
     "metadata": {},
     "output_type": "execute_result"
    }
   ],
   "source": [
    "taxi_data.isna().sum()"
   ]
  },
  {
   "cell_type": "markdown",
   "metadata": {},
   "source": [
    "### Задание 2.3\n",
    "Посмотрим на статистические характеристики некоторых признаков. \n",
    "\n",
    "а) Сколько уникальных таксопарков присутствует в данных?\n",
    "\n",
    "б) Каково максимальное количество пассажиров?\n",
    "\n",
    "в) Чему равна средняя и медианная длительность поездки? Ответ приведите в секундах и округлите до целого.\n",
    "\n",
    "г) Чему равно минимальное и максимальное время поездки (в секундах)?\n"
   ]
  },
  {
   "cell_type": "code",
   "execution_count": 21,
   "metadata": {},
   "outputs": [
    {
     "name": "stdout",
     "output_type": "stream",
     "text": [
      "Количество уникальных таксопарков: 2\n",
      "Максимальное количество пассажиров: 9\n",
      "Средняя длительность поездки: 959\n",
      "Медианная длительность поездки: 662\n",
      "Минимальное время поездки: 1\n",
      "Максимальное время поездки: 3526282\n"
     ]
    }
   ],
   "source": [
    "print('Количество уникальных таксопарков: {}'.format(taxi_data['vendor_id'].nunique()))\n",
    "print('Максимальное количество пассажиров: {}'.format(taxi_data['passenger_count'].max()))\n",
    "print('Средняя длительность поездки: {}'.format(round(taxi_data['trip_duration'].mean())))\n",
    "print('Медианная длительность поездки: {}'.format(round(taxi_data['trip_duration'].median())))\n",
    "print('Минимальное время поездки: {}'.format(taxi_data['trip_duration'].min()))\n",
    "print('Максимальное время поездки: {}'.format(taxi_data['trip_duration'].max()))"
   ]
  },
  {
   "cell_type": "markdown",
   "metadata": {},
   "source": [
    "Займемся расширением исходного набора данных как с помощью внешних источников, так и с помощью манипуляций над имеющимися в данных признаками. \n"
   ]
  },
  {
   "cell_type": "markdown",
   "metadata": {},
   "source": [
    "### Задание 2.4\n",
    "Реализуйте функцию add_datetime_features(), которая принимает на вход таблицу с данными о поездках (DataFrame) и возвращает ту же таблицу с добавленными в нее 3 столбцами:\n",
    "* pickup_date - дата включения счетчика - начала поездки (без времени);\n",
    "* pickup_hour - час дня включения счетчика;\n",
    "* pickup_day_of_week - наименование дня недели, в который был включен счетчик.\n",
    "\n",
    "а) Сколько поездок было совершено в субботу?\n",
    "\n",
    "б) Сколько поездок в среднем совершается в день? Ответ округлите до целого"
   ]
  },
  {
   "cell_type": "code",
   "execution_count": 22,
   "metadata": {},
   "outputs": [],
   "source": [
    "def add_datetime_features(data):\n",
    "    data['pickup_date'] = data['pickup_datetime'].dt.date\n",
    "    data['pickup_hour'] = data['pickup_datetime'].dt.hour\n",
    "    data['pickup_day_of_week'] = data['pickup_datetime'].dt.weekday\n",
    "    return data"
   ]
  },
  {
   "cell_type": "code",
   "execution_count": 23,
   "metadata": {},
   "outputs": [
    {
     "name": "stdout",
     "output_type": "stream",
     "text": [
      "Количество поездок в субботу: 220868\n"
     ]
    }
   ],
   "source": [
    "taxi_data = add_datetime_features(taxi_data)\n",
    "print('Количество поездок в субботу: {}'.format(taxi_data[taxi_data['pickup_day_of_week'] == 5].shape[0]))"
   ]
  },
  {
   "cell_type": "code",
   "execution_count": 24,
   "metadata": {},
   "outputs": [
    {
     "name": "stdout",
     "output_type": "stream",
     "text": [
      "Среднее поездок в день: 8015\n"
     ]
    }
   ],
   "source": [
    "count = taxi_data.groupby('pickup_date').count()\n",
    "print('Среднее поездок в день: {}'.format(round(count['vendor_id'].mean())))"
   ]
  },
  {
   "cell_type": "markdown",
   "metadata": {},
   "source": [
    "### Задание 2.5\n",
    "Реализуйте функцию add_holiday_features(), которая принимает на вход две таблицы: \n",
    "* таблицу с данными о поездках;\n",
    "* таблицу с данными о праздничных днях;\n",
    "\n",
    "и возвращает обновленную таблицу с данными о поездках с добавленным в нее столбцом pickup_holiday - бинарным признаком того, начата ли поездка в праздничный день или нет (1 - да, 0 - нет). \n",
    "\n",
    "Чему равна медианная длительность поездки на такси в праздничные дни? Ответ приведите в секундах, округлив до целого.\n"
   ]
  },
  {
   "cell_type": "code",
   "execution_count": 25,
   "metadata": {},
   "outputs": [],
   "source": [
    "holiday_data = pd.read_csv('holiday_data.csv', sep=';')\n",
    "holiday_data['date'] = pd.to_datetime(holiday_data['date']).dt.date"
   ]
  },
  {
   "cell_type": "code",
   "execution_count": 26,
   "metadata": {},
   "outputs": [],
   "source": [
    "def add_holiday_features(data, data_holiday):\n",
    "    data = data.merge(data_holiday,left_on='pickup_date', right_on='date',how='left')\n",
    "    data['holiday'] = data['holiday'].fillna(0)\n",
    "    data.loc[data.holiday != 0, 'holiday'] = 1\n",
    "    data = data.rename(columns={\"holiday\": \"pickup_holiday\"})\n",
    "    return data"
   ]
  },
  {
   "cell_type": "code",
   "execution_count": 27,
   "metadata": {},
   "outputs": [
    {
     "name": "stdout",
     "output_type": "stream",
     "text": [
      "Медианная длительность поездки на такси в праздничные дни: 616.0\n"
     ]
    }
   ],
   "source": [
    "taxi_data = add_holiday_features(taxi_data, holiday_data)\n",
    "print('Медианная длительность поездки на такси в праздничные дни: {}'.format(taxi_data[taxi_data['pickup_holiday'] == 1]['trip_duration'].median()))"
   ]
  },
  {
   "cell_type": "markdown",
   "metadata": {},
   "source": [
    "### Задание 2.6\n",
    "Реализуйте функцию add_osrm_features(), которая принимает на вход две таблицы:\n",
    "* таблицу с данными о поездках;\n",
    "* таблицу с данными из OSRM;\n",
    "\n",
    "и возвращает обновленную таблицу с данными о поездках с добавленными в нее 3 столбцами:\n",
    "* total_distance;\n",
    "* total_travel_time;\n",
    "* number_of_steps.\n",
    "\n",
    "а) Чему равна разница (в секундах) между медианной длительностью поездки в данных и медианной длительностью поездки, полученной из OSRM? \n",
    "\n",
    "В результате объединения таблиц у вас должны были получиться пропуски в столбцах с информацией из OSRM API. Это связано с тем, что для некоторых поездок не удалось выгрузить данные из веб источника. \n",
    "\n",
    "б) Сколько пропусков содержится в столбцах с информацией из OSRM API после объединения таблиц?"
   ]
  },
  {
   "cell_type": "code",
   "execution_count": 28,
   "metadata": {},
   "outputs": [],
   "source": [
    "osrm_data = pd.read_csv('osrm_data_train.zip')\n",
    "osrm_data = osrm_data[['id','total_distance','total_travel_time','number_of_steps']]"
   ]
  },
  {
   "cell_type": "code",
   "execution_count": 29,
   "metadata": {},
   "outputs": [],
   "source": [
    "def add_osrm_features(data,data_osrm):\n",
    "    data = data.merge(data_osrm,on='id',how='left')\n",
    "    return data"
   ]
  },
  {
   "cell_type": "code",
   "execution_count": 30,
   "metadata": {},
   "outputs": [],
   "source": [
    "taxi_data = add_osrm_features(taxi_data,osrm_data)"
   ]
  },
  {
   "cell_type": "code",
   "execution_count": 31,
   "metadata": {},
   "outputs": [
    {
     "name": "stdout",
     "output_type": "stream",
     "text": [
      "Разница (в секундах) между медианной длительностью поездки в данных и медианной длительностью поездки, полученной из OSOSRMRM: 374\n"
     ]
    }
   ],
   "source": [
    "print('Разница (в секундах) между медианной длительностью поездки в данных и медианной длительностью поездки, полученной из OSOSRMRM: {}'.format(round(taxi_data['trip_duration'].median() - taxi_data['total_travel_time'].median())))"
   ]
  },
  {
   "cell_type": "code",
   "execution_count": 32,
   "metadata": {},
   "outputs": [
    {
     "data": {
      "text/plain": [
       "id                          0\n",
       "vendor_id                   0\n",
       "pickup_datetime             0\n",
       "dropoff_datetime            0\n",
       "passenger_count             0\n",
       "pickup_longitude            0\n",
       "pickup_latitude             0\n",
       "dropoff_longitude           0\n",
       "dropoff_latitude            0\n",
       "store_and_fwd_flag          0\n",
       "trip_duration               0\n",
       "pickup_date                 0\n",
       "pickup_hour                 0\n",
       "pickup_day_of_week          0\n",
       "day                   1408588\n",
       "date                  1408588\n",
       "pickup_holiday              0\n",
       "total_distance              1\n",
       "total_travel_time           1\n",
       "number_of_steps             1\n",
       "dtype: int64"
      ]
     },
     "execution_count": 32,
     "metadata": {},
     "output_type": "execute_result"
    }
   ],
   "source": [
    "#Количество пропусков\n",
    "taxi_data.isna().sum()"
   ]
  },
  {
   "cell_type": "code",
   "execution_count": 33,
   "metadata": {},
   "outputs": [],
   "source": [
    "def get_haversine_distance(lat1, lng1, lat2, lng2):\n",
    "    # переводим углы в радианы\n",
    "    lat1, lng1, lat2, lng2 = map(np.radians, (lat1, lng1, lat2, lng2))\n",
    "    # радиус земли в километрах\n",
    "    EARTH_RADIUS = 6371 \n",
    "    # считаем кратчайшее расстояние h по формуле Хаверсина\n",
    "    lat_delta = lat2 - lat1\n",
    "    lng_delta = lng2 - lng1\n",
    "    d = np.sin(lat_delta * 0.5) ** 2 + np.cos(lat1) * np.cos(lat2) * np.sin(lng_delta * 0.5) ** 2\n",
    "    h = 2 * EARTH_RADIUS * np.arcsin(np.sqrt(d))\n",
    "    return h\n",
    "\n",
    "def get_angle_direction(lat1, lng1, lat2, lng2):\n",
    "    # переводим углы в радианы\n",
    "    lat1, lng1, lat2, lng2 = map(np.radians, (lat1, lng1, lat2, lng2))\n",
    "    # считаем угол направления движения alpha по формуле угла пеленга\n",
    "    lng_delta_rad = lng2 - lng1\n",
    "    y = np.sin(lng_delta_rad) * np.cos(lat2)\n",
    "    x = np.cos(lat1) * np.sin(lat2) - np.sin(lat1) * np.cos(lat2) * np.cos(lng_delta_rad)\n",
    "    alpha = np.degrees(np.arctan2(y, x))\n",
    "    return alpha"
   ]
  },
  {
   "cell_type": "markdown",
   "metadata": {
    "tags": []
   },
   "source": [
    "### Задание 2.7.\n",
    "Реализуйте функцию add_geographical_features(), которая принимает на вход таблицу с данными о поездках и возвращает обновленную таблицу с добавленными в нее 2 столбцами:\n",
    "* haversine_distance - расстояние Хаверсина между точкой, в которой был включен счетчик, и точкой, в которой счетчик был выключен;\n",
    "* direction - направление движения из точки, в которой был включен счетчик, в точку, в которой счетчик был выключен.\n",
    "\n",
    "Чему равно медианное расстояние Хаверсина поездок (в киллометрах)? Ответ округлите до сотых.\n"
   ]
  },
  {
   "cell_type": "code",
   "execution_count": 34,
   "metadata": {},
   "outputs": [],
   "source": [
    "def add_geographical_features(data):\n",
    "    data['haversine_distance'] = get_haversine_distance(data.pickup_latitude, data.pickup_longitude, data.dropoff_latitude, data.dropoff_longitude)\n",
    "    data['direction'] = get_angle_direction(data.pickup_latitude, data.pickup_longitude, data.dropoff_latitude, data.dropoff_longitude)\n",
    "    return data"
   ]
  },
  {
   "cell_type": "code",
   "execution_count": 35,
   "metadata": {},
   "outputs": [
    {
     "name": "stdout",
     "output_type": "stream",
     "text": [
      "Медианное расстояние Хаверсина поездок (в километрах): 2.09\n"
     ]
    }
   ],
   "source": [
    "taxi_data = add_geographical_features(taxi_data)\n",
    "print('Медианное расстояние Хаверсина поездок (в километрах): {}'.format(round(taxi_data['haversine_distance'].median(),2)))"
   ]
  },
  {
   "cell_type": "markdown",
   "metadata": {},
   "source": [
    "### Задание 2.8.\n",
    "Реализуйте функцию add_cluster_features(), которая принимает на вход таблицу с данными о поездках и обученный алгоритм кластеризации. Функция должна возвращать обновленную таблицу с добавленными в нее столбцом geo_cluster - географический кластер, к которому относится поездка.\n",
    "\n",
    "Сколько поездок содержится в наименьшем по размеру географическом кластере?\n"
   ]
  },
  {
   "cell_type": "code",
   "execution_count": 36,
   "metadata": {},
   "outputs": [
    {
     "data": {
      "text/plain": [
       "KMeans(n_clusters=10, random_state=42)"
      ]
     },
     "execution_count": 36,
     "metadata": {},
     "output_type": "execute_result"
    }
   ],
   "source": [
    "# создаем обучающую выборку из географических координат всех точек\n",
    "coords = np.hstack((taxi_data[['pickup_latitude', 'pickup_longitude']],\n",
    "                    taxi_data[['dropoff_latitude', 'dropoff_longitude']]))\n",
    "# обучаем алгоритм кластеризации\n",
    "kmeans = cluster.KMeans(n_clusters=10, random_state=42)\n",
    "kmeans.fit(coords)"
   ]
  },
  {
   "cell_type": "code",
   "execution_count": 37,
   "metadata": {},
   "outputs": [],
   "source": [
    "def add_cluster_features(data,kmenas):\n",
    "    data['geo_cluster'] = kmenas.labels_\n",
    "    return data"
   ]
  },
  {
   "cell_type": "code",
   "execution_count": 38,
   "metadata": {},
   "outputs": [],
   "source": [
    "taxi_data = add_cluster_features(taxi_data,kmeans)"
   ]
  },
  {
   "cell_type": "code",
   "execution_count": 39,
   "metadata": {},
   "outputs": [
    {
     "data": {
      "text/html": [
       "<div>\n",
       "<style scoped>\n",
       "    .dataframe tbody tr th:only-of-type {\n",
       "        vertical-align: middle;\n",
       "    }\n",
       "\n",
       "    .dataframe tbody tr th {\n",
       "        vertical-align: top;\n",
       "    }\n",
       "\n",
       "    .dataframe thead th {\n",
       "        text-align: right;\n",
       "    }\n",
       "</style>\n",
       "<table border=\"1\" class=\"dataframe\">\n",
       "  <thead>\n",
       "    <tr style=\"text-align: right;\">\n",
       "      <th></th>\n",
       "      <th>id</th>\n",
       "      <th>vendor_id</th>\n",
       "      <th>pickup_datetime</th>\n",
       "      <th>dropoff_datetime</th>\n",
       "      <th>passenger_count</th>\n",
       "      <th>pickup_longitude</th>\n",
       "      <th>pickup_latitude</th>\n",
       "      <th>dropoff_longitude</th>\n",
       "      <th>dropoff_latitude</th>\n",
       "      <th>store_and_fwd_flag</th>\n",
       "      <th>...</th>\n",
       "      <th>pickup_hour</th>\n",
       "      <th>pickup_day_of_week</th>\n",
       "      <th>day</th>\n",
       "      <th>date</th>\n",
       "      <th>pickup_holiday</th>\n",
       "      <th>total_distance</th>\n",
       "      <th>total_travel_time</th>\n",
       "      <th>number_of_steps</th>\n",
       "      <th>haversine_distance</th>\n",
       "      <th>direction</th>\n",
       "    </tr>\n",
       "    <tr>\n",
       "      <th>geo_cluster</th>\n",
       "      <th></th>\n",
       "      <th></th>\n",
       "      <th></th>\n",
       "      <th></th>\n",
       "      <th></th>\n",
       "      <th></th>\n",
       "      <th></th>\n",
       "      <th></th>\n",
       "      <th></th>\n",
       "      <th></th>\n",
       "      <th></th>\n",
       "      <th></th>\n",
       "      <th></th>\n",
       "      <th></th>\n",
       "      <th></th>\n",
       "      <th></th>\n",
       "      <th></th>\n",
       "      <th></th>\n",
       "      <th></th>\n",
       "      <th></th>\n",
       "      <th></th>\n",
       "    </tr>\n",
       "  </thead>\n",
       "  <tbody>\n",
       "    <tr>\n",
       "      <th>0</th>\n",
       "      <td>342545</td>\n",
       "      <td>342545</td>\n",
       "      <td>342545</td>\n",
       "      <td>342545</td>\n",
       "      <td>342545</td>\n",
       "      <td>342545</td>\n",
       "      <td>342545</td>\n",
       "      <td>342545</td>\n",
       "      <td>342545</td>\n",
       "      <td>342545</td>\n",
       "      <td>...</td>\n",
       "      <td>342545</td>\n",
       "      <td>342545</td>\n",
       "      <td>13370</td>\n",
       "      <td>13370</td>\n",
       "      <td>342545</td>\n",
       "      <td>342545</td>\n",
       "      <td>342545</td>\n",
       "      <td>342545</td>\n",
       "      <td>342545</td>\n",
       "      <td>342545</td>\n",
       "    </tr>\n",
       "    <tr>\n",
       "      <th>1</th>\n",
       "      <td>2</td>\n",
       "      <td>2</td>\n",
       "      <td>2</td>\n",
       "      <td>2</td>\n",
       "      <td>2</td>\n",
       "      <td>2</td>\n",
       "      <td>2</td>\n",
       "      <td>2</td>\n",
       "      <td>2</td>\n",
       "      <td>2</td>\n",
       "      <td>...</td>\n",
       "      <td>2</td>\n",
       "      <td>2</td>\n",
       "      <td>0</td>\n",
       "      <td>0</td>\n",
       "      <td>2</td>\n",
       "      <td>2</td>\n",
       "      <td>2</td>\n",
       "      <td>2</td>\n",
       "      <td>2</td>\n",
       "      <td>2</td>\n",
       "    </tr>\n",
       "    <tr>\n",
       "      <th>2</th>\n",
       "      <td>394597</td>\n",
       "      <td>394597</td>\n",
       "      <td>394597</td>\n",
       "      <td>394597</td>\n",
       "      <td>394597</td>\n",
       "      <td>394597</td>\n",
       "      <td>394597</td>\n",
       "      <td>394597</td>\n",
       "      <td>394597</td>\n",
       "      <td>394597</td>\n",
       "      <td>...</td>\n",
       "      <td>394597</td>\n",
       "      <td>394597</td>\n",
       "      <td>15353</td>\n",
       "      <td>15353</td>\n",
       "      <td>394597</td>\n",
       "      <td>394597</td>\n",
       "      <td>394597</td>\n",
       "      <td>394597</td>\n",
       "      <td>394597</td>\n",
       "      <td>394597</td>\n",
       "    </tr>\n",
       "    <tr>\n",
       "      <th>3</th>\n",
       "      <td>29600</td>\n",
       "      <td>29600</td>\n",
       "      <td>29600</td>\n",
       "      <td>29600</td>\n",
       "      <td>29600</td>\n",
       "      <td>29600</td>\n",
       "      <td>29600</td>\n",
       "      <td>29600</td>\n",
       "      <td>29600</td>\n",
       "      <td>29600</td>\n",
       "      <td>...</td>\n",
       "      <td>29600</td>\n",
       "      <td>29600</td>\n",
       "      <td>1460</td>\n",
       "      <td>1460</td>\n",
       "      <td>29600</td>\n",
       "      <td>29600</td>\n",
       "      <td>29600</td>\n",
       "      <td>29600</td>\n",
       "      <td>29600</td>\n",
       "      <td>29600</td>\n",
       "    </tr>\n",
       "    <tr>\n",
       "      <th>4</th>\n",
       "      <td>45736</td>\n",
       "      <td>45736</td>\n",
       "      <td>45736</td>\n",
       "      <td>45736</td>\n",
       "      <td>45736</td>\n",
       "      <td>45736</td>\n",
       "      <td>45736</td>\n",
       "      <td>45736</td>\n",
       "      <td>45736</td>\n",
       "      <td>45736</td>\n",
       "      <td>...</td>\n",
       "      <td>45736</td>\n",
       "      <td>45736</td>\n",
       "      <td>2130</td>\n",
       "      <td>2130</td>\n",
       "      <td>45736</td>\n",
       "      <td>45736</td>\n",
       "      <td>45736</td>\n",
       "      <td>45736</td>\n",
       "      <td>45736</td>\n",
       "      <td>45736</td>\n",
       "    </tr>\n",
       "    <tr>\n",
       "      <th>5</th>\n",
       "      <td>18</td>\n",
       "      <td>18</td>\n",
       "      <td>18</td>\n",
       "      <td>18</td>\n",
       "      <td>18</td>\n",
       "      <td>18</td>\n",
       "      <td>18</td>\n",
       "      <td>18</td>\n",
       "      <td>18</td>\n",
       "      <td>18</td>\n",
       "      <td>...</td>\n",
       "      <td>18</td>\n",
       "      <td>18</td>\n",
       "      <td>0</td>\n",
       "      <td>0</td>\n",
       "      <td>18</td>\n",
       "      <td>18</td>\n",
       "      <td>18</td>\n",
       "      <td>18</td>\n",
       "      <td>18</td>\n",
       "      <td>18</td>\n",
       "    </tr>\n",
       "    <tr>\n",
       "      <th>6</th>\n",
       "      <td>40410</td>\n",
       "      <td>40410</td>\n",
       "      <td>40410</td>\n",
       "      <td>40410</td>\n",
       "      <td>40410</td>\n",
       "      <td>40410</td>\n",
       "      <td>40410</td>\n",
       "      <td>40410</td>\n",
       "      <td>40410</td>\n",
       "      <td>40410</td>\n",
       "      <td>...</td>\n",
       "      <td>40410</td>\n",
       "      <td>40410</td>\n",
       "      <td>1996</td>\n",
       "      <td>1996</td>\n",
       "      <td>40410</td>\n",
       "      <td>40410</td>\n",
       "      <td>40410</td>\n",
       "      <td>40410</td>\n",
       "      <td>40410</td>\n",
       "      <td>40410</td>\n",
       "    </tr>\n",
       "    <tr>\n",
       "      <th>7</th>\n",
       "      <td>5</td>\n",
       "      <td>5</td>\n",
       "      <td>5</td>\n",
       "      <td>5</td>\n",
       "      <td>5</td>\n",
       "      <td>5</td>\n",
       "      <td>5</td>\n",
       "      <td>5</td>\n",
       "      <td>5</td>\n",
       "      <td>5</td>\n",
       "      <td>...</td>\n",
       "      <td>5</td>\n",
       "      <td>5</td>\n",
       "      <td>0</td>\n",
       "      <td>0</td>\n",
       "      <td>5</td>\n",
       "      <td>5</td>\n",
       "      <td>5</td>\n",
       "      <td>5</td>\n",
       "      <td>5</td>\n",
       "      <td>5</td>\n",
       "    </tr>\n",
       "    <tr>\n",
       "      <th>8</th>\n",
       "      <td>18716</td>\n",
       "      <td>18716</td>\n",
       "      <td>18716</td>\n",
       "      <td>18716</td>\n",
       "      <td>18716</td>\n",
       "      <td>18716</td>\n",
       "      <td>18716</td>\n",
       "      <td>18716</td>\n",
       "      <td>18716</td>\n",
       "      <td>18716</td>\n",
       "      <td>...</td>\n",
       "      <td>18716</td>\n",
       "      <td>18716</td>\n",
       "      <td>887</td>\n",
       "      <td>887</td>\n",
       "      <td>18716</td>\n",
       "      <td>18715</td>\n",
       "      <td>18715</td>\n",
       "      <td>18715</td>\n",
       "      <td>18716</td>\n",
       "      <td>18716</td>\n",
       "    </tr>\n",
       "    <tr>\n",
       "      <th>9</th>\n",
       "      <td>595684</td>\n",
       "      <td>595684</td>\n",
       "      <td>595684</td>\n",
       "      <td>595684</td>\n",
       "      <td>595684</td>\n",
       "      <td>595684</td>\n",
       "      <td>595684</td>\n",
       "      <td>595684</td>\n",
       "      <td>595684</td>\n",
       "      <td>595684</td>\n",
       "      <td>...</td>\n",
       "      <td>595684</td>\n",
       "      <td>595684</td>\n",
       "      <td>23529</td>\n",
       "      <td>23529</td>\n",
       "      <td>595684</td>\n",
       "      <td>595684</td>\n",
       "      <td>595684</td>\n",
       "      <td>595684</td>\n",
       "      <td>595684</td>\n",
       "      <td>595684</td>\n",
       "    </tr>\n",
       "  </tbody>\n",
       "</table>\n",
       "<p>10 rows × 22 columns</p>\n",
       "</div>"
      ],
      "text/plain": [
       "                 id  vendor_id  pickup_datetime  dropoff_datetime  \\\n",
       "geo_cluster                                                         \n",
       "0            342545     342545           342545            342545   \n",
       "1                 2          2                2                 2   \n",
       "2            394597     394597           394597            394597   \n",
       "3             29600      29600            29600             29600   \n",
       "4             45736      45736            45736             45736   \n",
       "5                18         18               18                18   \n",
       "6             40410      40410            40410             40410   \n",
       "7                 5          5                5                 5   \n",
       "8             18716      18716            18716             18716   \n",
       "9            595684     595684           595684            595684   \n",
       "\n",
       "             passenger_count  pickup_longitude  pickup_latitude  \\\n",
       "geo_cluster                                                       \n",
       "0                     342545            342545           342545   \n",
       "1                          2                 2                2   \n",
       "2                     394597            394597           394597   \n",
       "3                      29600             29600            29600   \n",
       "4                      45736             45736            45736   \n",
       "5                         18                18               18   \n",
       "6                      40410             40410            40410   \n",
       "7                          5                 5                5   \n",
       "8                      18716             18716            18716   \n",
       "9                     595684            595684           595684   \n",
       "\n",
       "             dropoff_longitude  dropoff_latitude  store_and_fwd_flag  ...  \\\n",
       "geo_cluster                                                           ...   \n",
       "0                       342545            342545              342545  ...   \n",
       "1                            2                 2                   2  ...   \n",
       "2                       394597            394597              394597  ...   \n",
       "3                        29600             29600               29600  ...   \n",
       "4                        45736             45736               45736  ...   \n",
       "5                           18                18                  18  ...   \n",
       "6                        40410             40410               40410  ...   \n",
       "7                            5                 5                   5  ...   \n",
       "8                        18716             18716               18716  ...   \n",
       "9                       595684            595684              595684  ...   \n",
       "\n",
       "             pickup_hour  pickup_day_of_week    day   date  pickup_holiday  \\\n",
       "geo_cluster                                                                  \n",
       "0                 342545              342545  13370  13370          342545   \n",
       "1                      2                   2      0      0               2   \n",
       "2                 394597              394597  15353  15353          394597   \n",
       "3                  29600               29600   1460   1460           29600   \n",
       "4                  45736               45736   2130   2130           45736   \n",
       "5                     18                  18      0      0              18   \n",
       "6                  40410               40410   1996   1996           40410   \n",
       "7                      5                   5      0      0               5   \n",
       "8                  18716               18716    887    887           18716   \n",
       "9                 595684              595684  23529  23529          595684   \n",
       "\n",
       "             total_distance  total_travel_time  number_of_steps  \\\n",
       "geo_cluster                                                       \n",
       "0                    342545             342545           342545   \n",
       "1                         2                  2                2   \n",
       "2                    394597             394597           394597   \n",
       "3                     29600              29600            29600   \n",
       "4                     45736              45736            45736   \n",
       "5                        18                 18               18   \n",
       "6                     40410              40410            40410   \n",
       "7                         5                  5                5   \n",
       "8                     18715              18715            18715   \n",
       "9                    595684             595684           595684   \n",
       "\n",
       "             haversine_distance  direction  \n",
       "geo_cluster                                 \n",
       "0                        342545     342545  \n",
       "1                             2          2  \n",
       "2                        394597     394597  \n",
       "3                         29600      29600  \n",
       "4                         45736      45736  \n",
       "5                            18         18  \n",
       "6                         40410      40410  \n",
       "7                             5          5  \n",
       "8                         18716      18716  \n",
       "9                        595684     595684  \n",
       "\n",
       "[10 rows x 22 columns]"
      ]
     },
     "execution_count": 39,
     "metadata": {},
     "output_type": "execute_result"
    }
   ],
   "source": [
    "taxi_data.groupby('geo_cluster').count()"
   ]
  },
  {
   "cell_type": "markdown",
   "metadata": {},
   "source": [
    "### Задание 2.9.\n",
    "Реализуйте функцию add_weather_features(), которая принимает на вход две таблицы:\n",
    "* таблицу с данными о поездках;\n",
    "* таблицу с данными о погодных условиях на каждый час;\n",
    "\n",
    "и возвращает обновленную таблицу с данными о поездках с добавленными в нее 5 столбцами:\n",
    "* temperature - температура;\n",
    "* visibility - видимость;\n",
    "* wind speed - средняя скорость ветра;\n",
    "* precip - количество осадков;\n",
    "* events - погодные явления.\n",
    "\n",
    "а) Сколько поездок было совершено в снежную погоду?\n",
    "\n",
    "В результате объединения у вас должны получиться записи, для которых в столбцах temperature, visibility, wind speed, precip, и events будут пропуски. Это связано с тем, что в таблице с данными о погодных условиях отсутствуют измерения для некоторых моментов времени, в которых включался счетчик поездки. \n",
    "\n",
    "б) Сколько процентов от общего количества наблюдений в таблице с данными о поездках занимают пропуски в столбцах с погодными условиями? Ответ приведите с точностью до сотых процента.\n"
   ]
  },
  {
   "cell_type": "code",
   "execution_count": 40,
   "metadata": {},
   "outputs": [],
   "source": [
    "weather_data = pd.read_csv('weather_data.zip')\n",
    "weather_data['time'] = pd.to_datetime(weather_data['time'])\n",
    "weather_data['date'] = weather_data['time'].dt.date\n",
    "weather_data['hour'] = weather_data['time'].dt.hour\n",
    "weather_data = weather_data[['date','hour','time','temperature','visibility','wind speed','precip','events']]\n",
    "\n",
    "def add_weather_features(data,data_weather):\n",
    "    data = data.merge(data_weather, how = 'left', left_on = ['pickup_date','pickup_hour'], right_on = ['date','hour'])\n",
    "    return data"
   ]
  },
  {
   "cell_type": "code",
   "execution_count": 41,
   "metadata": {},
   "outputs": [],
   "source": [
    "taxi_data = add_weather_features(taxi_data,weather_data)"
   ]
  },
  {
   "cell_type": "code",
   "execution_count": 42,
   "metadata": {},
   "outputs": [
    {
     "name": "stdout",
     "output_type": "stream",
     "text": [
      "Количество поездок в снежную погоду: 13126\n"
     ]
    }
   ],
   "source": [
    "print('Количество поездок в снежную погоду: {}'.format(taxi_data[taxi_data['events'] == 'Snow'].shape[0]))"
   ]
  },
  {
   "cell_type": "code",
   "execution_count": 43,
   "metadata": {},
   "outputs": [
    {
     "data": {
      "text/plain": [
       "id                     0.000000\n",
       "vendor_id              0.000000\n",
       "pickup_datetime        0.000000\n",
       "dropoff_datetime       0.000000\n",
       "passenger_count        0.000000\n",
       "pickup_longitude       0.000000\n",
       "pickup_latitude        0.000000\n",
       "dropoff_longitude      0.000000\n",
       "dropoff_latitude       0.000000\n",
       "store_and_fwd_flag     0.000000\n",
       "trip_duration          0.000000\n",
       "pickup_date            0.000000\n",
       "pickup_hour            0.000000\n",
       "pickup_day_of_week     0.000000\n",
       "day                   95.997786\n",
       "date_x                95.997786\n",
       "pickup_holiday         0.000000\n",
       "total_distance         0.000068\n",
       "total_travel_time      0.000068\n",
       "number_of_steps        0.000068\n",
       "haversine_distance     0.000000\n",
       "direction              0.000000\n",
       "geo_cluster            0.000000\n",
       "date_y                 0.820002\n",
       "hour                   0.820002\n",
       "time                   0.820002\n",
       "temperature            0.820002\n",
       "visibility             0.820002\n",
       "wind speed             0.820002\n",
       "precip                 0.820002\n",
       "events                 0.820002\n",
       "dtype: float64"
      ]
     },
     "execution_count": 43,
     "metadata": {},
     "output_type": "execute_result"
    }
   ],
   "source": [
    "taxi_data.isnull().mean() * 100"
   ]
  },
  {
   "cell_type": "markdown",
   "metadata": {},
   "source": [
    "## Задание 2.10.\n",
    "Реализуйте функцию fill_null_weather_data(), которая принимает на вход которая принимает на вход таблицу с данными о поездках. Функция должна заполнять пропущенные значения в столбцах.\n",
    "\n",
    "Пропуски в столбцах с погодными условиями -  temperature, visibility, wind speed, precip заполните медианным значением температуры, влажности, скорости ветра и видимости в зависимости от даты начала поездки. Для этого сгруппируйте данные по столбцу pickup_date и рассчитайте медиану в каждой группе, после чего с помощью комбинации методов transform() и fillna() заполните пропуски. \n",
    "Пропуски в столбце events заполните строкой 'None' - символом отсутствия погодных явлений (снега/дождя/тумана). \n",
    "\n",
    "Пропуски в столбцах с информацией из OSRM API - total_distance, total_travel_time и number_of_steps заполните медианным значением по столбцам. \n",
    "\n",
    "Чему равна медиана в столбце temperature после заполнения пропусков? Ответ округлите до десятых.\n"
   ]
  },
  {
   "cell_type": "code",
   "execution_count": 44,
   "metadata": {},
   "outputs": [],
   "source": [
    "taxi_data['temperature'] = taxi_data['temperature'].fillna(\n",
    "    taxi_data.groupby('pickup_date')['temperature'].transform('median'))\n",
    "\n",
    "taxi_data['visibility'] = taxi_data['visibility'].fillna(\n",
    "    taxi_data.groupby('pickup_date')['visibility'].transform('median'))\n",
    "\n",
    "taxi_data['wind speed'] = taxi_data['wind speed'].fillna(\n",
    "    taxi_data.groupby('pickup_date')['wind speed'].transform('median'))\n",
    "\n",
    "taxi_data['precip'] = taxi_data['precip'].fillna(\n",
    "    taxi_data.groupby('pickup_date')['precip'].transform('median'))\n",
    "\n",
    "taxi_data['total_distance'] = taxi_data['total_distance'].fillna(taxi_data['total_distance'].median())\n",
    "taxi_data['total_travel_time'] = taxi_data['total_travel_time'].fillna(taxi_data['total_travel_time'].median())\n",
    "taxi_data['number_of_steps'] = taxi_data['number_of_steps'].fillna(taxi_data['number_of_steps'].median())\n",
    "taxi_data['events'] = taxi_data['events'].fillna('None')"
   ]
  },
  {
   "cell_type": "code",
   "execution_count": 45,
   "metadata": {},
   "outputs": [
    {
     "name": "stdout",
     "output_type": "stream",
     "text": [
      "Медиана в столбце temperature после заполнения пропусков: 11.1\n"
     ]
    }
   ],
   "source": [
    "print('Медиана в столбце temperature после заполнения пропусков: {}'.format(taxi_data['temperature'].median()))"
   ]
  },
  {
   "cell_type": "markdown",
   "metadata": {},
   "source": [
    "В завершение первой части найдем очевидные выбросы в целевой переменной - длительности поездки. \n",
    "\n",
    "Проще всего найти слишком продолжительные поездки. Давайте условимся, что выбросами будут считаться поездки, длительность которых превышает 24 часа. \n",
    "\n",
    "Чуть сложнее с анализом поездок, длительность которых слишком мала. Потому что к ним относятся действительно реальные поездки на короткие расстояния, поездки, которые были отменены через секунду после того как включился счетчик, а также “телепортации” - перемещение на большие расстояния за считанные секунды. \n",
    "Условимся, что мы будем считать выбросами только последнюю группу. Как же нам их обнаружить наиболее простым способом?\n",
    "\n",
    "Можно воспользоваться информацией о кратчайшем расстоянии, которое проезжает такси. Вычислить среднюю скорость автомобиля на кратчайшем пути следующим образом: \n",
    "$$avg\\_speed= \\frac{total\\_distance}{1000*trip\\_duration}*3600$$\n",
    "Если мы построим диаграмму рассеяния средней скорости движения автомобилей, мы увидим следующую картину:\n"
   ]
  },
  {
   "cell_type": "code",
   "execution_count": 46,
   "metadata": {},
   "outputs": [
    {
     "data": {
      "image/png": "[encoded data removed]",
      "text/plain": [
       "<Figure size 720x360 with 1 Axes>"
      ]
     },
     "metadata": {
      "needs_background": "light"
     },
     "output_type": "display_data"
    }
   ],
   "source": [
    "avg_speed = taxi_data['total_distance'] / taxi_data['trip_duration'] * 3.6\n",
    "fig, ax = plt.subplots(figsize=(10, 5))\n",
    "sns.scatterplot(x=avg_speed.index, y=avg_speed, ax=ax)\n",
    "ax.set_xlabel('Index')\n",
    "ax.set_ylabel('Average speed');"
   ]
  },
  {
   "cell_type": "markdown",
   "metadata": {},
   "source": [
    "Как раз отсюда мы видим, что у нас есть “поездки-телепортации”, для которых средняя скорость более 1000 км/ч. Даже есть такая, средняя скорость которой составляла более 12000 км/ч! \n",
    "\n",
    "Давайте условимся, что предельная средняя скорость, которую могут развивать таксисты будет 300 км/ч. \n"
   ]
  },
  {
   "cell_type": "markdown",
   "metadata": {
    "tags": []
   },
   "source": [
    "### Задание 2.11.\n",
    "Найдите поездки, длительность которых превышает 24 часа. И удалите их из набора данных.\n",
    "\n",
    "а) Сколько выбросов по признаку длительности поездки вам удалось найти?\n",
    "\n",
    "Найдите поездки, средняя скорость которых по кратчайшему пути превышает 300 км/ч и удалите их из данных. \n",
    "\n",
    "б) Сколько выбросов по признаку скорости вам удалось найти?"
   ]
  },
  {
   "cell_type": "code",
   "execution_count": 47,
   "metadata": {},
   "outputs": [],
   "source": [
    "taxi_data['avg_speed'] = avg_speed"
   ]
  },
  {
   "cell_type": "code",
   "execution_count": 48,
   "metadata": {},
   "outputs": [
    {
     "name": "stdout",
     "output_type": "stream",
     "text": [
      "Количество поездок, длительность которых больше 24 ч: 4\n"
     ]
    }
   ],
   "source": [
    "trip_more24 = taxi_data[taxi_data['trip_duration'] > 86400]\n",
    "print('Количество поездок, длительность которых больше 24 ч: {}'.format(trip_more24.shape[0]))"
   ]
  },
  {
   "cell_type": "code",
   "execution_count": 49,
   "metadata": {},
   "outputs": [
    {
     "name": "stdout",
     "output_type": "stream",
     "text": [
      "Средняя скорость > 300 км/ч: 409\n"
     ]
    }
   ],
   "source": [
    "avg_more300 = taxi_data[taxi_data['avg_speed'] > 300]\n",
    "print('Средняя скорость > 300 км/ч: {}'.format(avg_more300.shape[0]))"
   ]
  },
  {
   "cell_type": "code",
   "execution_count": 50,
   "metadata": {},
   "outputs": [],
   "source": [
    "taxi_data = taxi_data[taxi_data['avg_speed'] <= 300]\n",
    "taxi_data = taxi_data[taxi_data[\"trip_duration\"]<=86400]"
   ]
  },
  {
   "cell_type": "markdown",
   "metadata": {
    "tags": []
   },
   "source": [
    "## 3. Разведывательный анализ данных (EDA)"
   ]
  },
  {
   "cell_type": "markdown",
   "metadata": {},
   "source": [
    "В этой части нашего проекта мы с вами:\n",
    "* Исследуем сформированный набор данных; \n",
    "* Попробуем найти закономерности, позволяющие сформулировать предварительные гипотезы относительно того, какие факторы являются решающими в определении длительности поездки;\n",
    "* Дополним наш анализ визуализациями, иллюстрирующими; исследование. Постарайтесь оформлять диаграммы с душой, а не «для галочки»: навыки визуализации полученных выводов обязательно пригодятся вам в будущем.\n"
   ]
  },
  {
   "cell_type": "markdown",
   "metadata": {},
   "source": [
    "Начинаем с целевого признака. Забегая вперед, скажем, что основной метрикой качества решения поставленной задачи будет RMSLE - Root Mean Squared Log Error, которая вычисляется на основе целевой переменной в логарифмическом масштабе. В таком случае целесообразно сразу логарифмировать признак длительности поездки и рассматривать при анализе логарифм в качестве целевого признака:\n",
    "$$trip\\_duration\\_log = log(trip\\_duration+1),$$\n",
    "где под символом log подразумевается натуральный логарифм.\n"
   ]
  },
  {
   "cell_type": "code",
   "execution_count": 51,
   "metadata": {},
   "outputs": [],
   "source": [
    "taxi_data['trip_duration_log'] = np.log(taxi_data['trip_duration']+1)"
   ]
  },
  {
   "cell_type": "markdown",
   "metadata": {},
   "source": [
    "### Задание 3.1.\n",
    "Постройте гистограмму и коробчатую диаграмму длительности поездок в логарифмическом масштабе (trip_duration_log). \n",
    "Исходя из визуализации, сделайте предположение, является ли полученное распределение нормальным? \n",
    "Проверьте свою гипотезу с помощью теста Д’Агостино при уровне значимости $\\alpha=0.05$. \n",
    "\n",
    "а) Чему равен вычисленный p-value? Ответ округлите до сотых.\n",
    "\n",
    "б) Является ли распределение длительности поездок в логарифмическом масштабе нормальным?"
   ]
  },
  {
   "cell_type": "code",
   "execution_count": 52,
   "metadata": {
    "_uuid": "4cea6d1f4372850e6c5692d7be7ca1cee3bdb42e",
    "tags": []
   },
   "outputs": [
    {
     "data": {
      "text/plain": [
       "<AxesSubplot:>"
      ]
     },
     "execution_count": 52,
     "metadata": {},
     "output_type": "execute_result"
    },
    {
     "data": {
      "image/png": "[encoded data removed]",
      "text/plain": [
       "<Figure size 432x288 with 1 Axes>"
      ]
     },
     "metadata": {
      "needs_background": "light"
     },
     "output_type": "display_data"
    }
   ],
   "source": [
    "taxi_data['trip_duration_log'].hist()"
   ]
  },
  {
   "cell_type": "code",
   "execution_count": 53,
   "metadata": {},
   "outputs": [
    {
     "data": {
      "image/png": "[encoded data removed]",
      "text/plain": [
       "<Figure size 432x288 with 1 Axes>"
      ]
     },
     "metadata": {
      "needs_background": "light"
     },
     "output_type": "display_data"
    }
   ],
   "source": [
    "ax = sns.boxplot(x=\"trip_duration_log\", data=taxi_data)"
   ]
  },
  {
   "cell_type": "code",
   "execution_count": 54,
   "metadata": {},
   "outputs": [
    {
     "name": "stdout",
     "output_type": "stream",
     "text": [
      "p-value (тест Д’Агостино-Пирсон): 0.0\n"
     ]
    }
   ],
   "source": [
    "trip_duration = np.array(taxi_data['trip_duration_log'])\n",
    "k2, p = stats.normaltest(trip_duration)\n",
    "print('p-value (тест Д’Агостино-Пирсон): {}'.format(p))"
   ]
  },
  {
   "cell_type": "markdown",
   "metadata": {},
   "source": [
    "### Задание 3.2.\n",
    "Постройте визуализацию, которая позволит сравнить распределение длительности поездки в логарифмическом масштабе (trip_duration_log) в зависимости от таксопарка (vendor_id). \n",
    "\n",
    "Сравните два распределения между собой."
   ]
  },
  {
   "cell_type": "code",
   "execution_count": 55,
   "metadata": {},
   "outputs": [
    {
     "data": {
      "image/png": "[encoded data removed]",
      "text/plain": [
       "<Figure size 432x288 with 1 Axes>"
      ]
     },
     "metadata": {
      "needs_background": "light"
     },
     "output_type": "display_data"
    }
   ],
   "source": [
    "ax = sns.boxplot(x='vendor_id',y=\"trip_duration_log\", data=taxi_data)"
   ]
  },
  {
   "cell_type": "markdown",
   "metadata": {},
   "source": [
    "### Задание 3.3.\n",
    "Постройте визуализацию, которая позволит сравнить распределение длительности поездки в логарифмическом масштабе (trip_duration_log) в зависимости от признака отправки сообщения поставщику (store_and_fwd_flag). \n",
    "\n",
    "Сравните два распределения между собой."
   ]
  },
  {
   "cell_type": "code",
   "execution_count": 56,
   "metadata": {},
   "outputs": [
    {
     "data": {
      "image/png": "[encoded data removed]",
      "text/plain": [
       "<Figure size 432x288 with 1 Axes>"
      ]
     },
     "metadata": {
      "needs_background": "light"
     },
     "output_type": "display_data"
    }
   ],
   "source": [
    "ax = sns.boxplot(x='store_and_fwd_flag',y=\"trip_duration_log\", data=taxi_data)"
   ]
  },
  {
   "cell_type": "markdown",
   "metadata": {},
   "source": [
    "### Задание 3.4.\n",
    "Постройте две визуализации:\n",
    "* Распределение количества поездок в зависимости от часа дня;\n",
    "* Зависимость медианной длительности поездки от часа дня.\n",
    "\n",
    "На основе построенных графиков ответьте на следующие вопросы:\n",
    "\n",
    "а) В какое время суток такси заказывают реже всего?\n",
    "\n",
    "б) В какое время суток наблюдается пик медианной длительности поездок?"
   ]
  },
  {
   "cell_type": "code",
   "execution_count": 57,
   "metadata": {},
   "outputs": [
    {
     "data": {
      "image/png": "[encoded data removed]",
      "text/plain": [
       "<Figure size 432x288 with 1 Axes>"
      ]
     },
     "metadata": {
      "needs_background": "light"
     },
     "output_type": "display_data"
    }
   ],
   "source": [
    "new_hour = taxi_data.groupby('pickup_hour',as_index=False).count()\n",
    "ax = sns.boxplot(x='pickup_hour',y=\"id\", data=new_hour)"
   ]
  },
  {
   "cell_type": "code",
   "execution_count": 58,
   "metadata": {},
   "outputs": [
    {
     "data": {
      "image/png": "[encoded data removed]",
      "text/plain": [
       "<Figure size 432x288 with 1 Axes>"
      ]
     },
     "metadata": {
      "needs_background": "light"
     },
     "output_type": "display_data"
    }
   ],
   "source": [
    "new_hour = taxi_data.groupby('pickup_hour',as_index=False)['trip_duration_log'].median()\n",
    "ax = sns.boxplot(x='pickup_hour',y=\"trip_duration_log\", data=new_hour)"
   ]
  },
  {
   "cell_type": "markdown",
   "metadata": {},
   "source": [
    "### Задание 3.5.\n",
    "Постройте две визуализации:\n",
    "* Распределение количества поездок в зависимости от дня недели;\n",
    "*  Зависимость медианной длительности поездки от дня недели.\n",
    "\n",
    "На основе построенных графиков ответьте на следующие вопросы:\n",
    "а) В какой день недели совершается больше всего поездок?\n",
    "б) В какой день недели медианная длительность поездок наименьшая?\n"
   ]
  },
  {
   "cell_type": "code",
   "execution_count": 59,
   "metadata": {},
   "outputs": [
    {
     "data": {
      "image/png": "[encoded data removed]",
      "text/plain": [
       "<Figure size 432x288 with 1 Axes>"
      ]
     },
     "metadata": {
      "needs_background": "light"
     },
     "output_type": "display_data"
    }
   ],
   "source": [
    "new_week = taxi_data.groupby('pickup_day_of_week',as_index=False).count()\n",
    "ax = sns.boxplot(x='pickup_day_of_week',y=\"id\", data=new_week)"
   ]
  },
  {
   "cell_type": "code",
   "execution_count": 60,
   "metadata": {},
   "outputs": [
    {
     "data": {
      "image/png": "[encoded data removed]",
      "text/plain": [
       "<Figure size 432x288 with 1 Axes>"
      ]
     },
     "metadata": {
      "needs_background": "light"
     },
     "output_type": "display_data"
    }
   ],
   "source": [
    "new_week = taxi_data.groupby('pickup_day_of_week',as_index=False)['trip_duration_log'].median()\n",
    "ax = sns.boxplot(x='pickup_day_of_week',y=\"trip_duration_log\", data=new_week)"
   ]
  },
  {
   "cell_type": "markdown",
   "metadata": {},
   "source": [
    "### Задание 3.6.\n",
    "Посмотрим на обе временные характеристики одновременно. \n",
    "\n",
    "Постройте сводную таблицу, по строкам которой отложены часы (pickup_hour), по столбцам - дни недели (pickup_day_of_week), а в ячейках - медианная длительность поездки (trip_duration). \n",
    "\n",
    "Визуализируйте полученную сводную таблицу с помощью тепловой карты (рекомендуемая палитра - coolwarm)."
   ]
  },
  {
   "cell_type": "code",
   "execution_count": 61,
   "metadata": {},
   "outputs": [
    {
     "data": {
      "text/plain": [
       "<AxesSubplot:xlabel='pickup_day_of_week', ylabel='pickup_hour'>"
      ]
     },
     "execution_count": 61,
     "metadata": {},
     "output_type": "execute_result"
    },
    {
     "data": {
      "image/png": "[encoded data removed]",
      "text/plain": [
       "<Figure size 432x288 with 2 Axes>"
      ]
     },
     "metadata": {
      "needs_background": "light"
     },
     "output_type": "display_data"
    }
   ],
   "source": [
    "table = pd.pivot_table(taxi_data, \n",
    "                       values=\"trip_duration\", \n",
    "                       index=\"pickup_hour\",\n",
    "                       columns=\"pickup_day_of_week\", \n",
    "                       aggfunc=\"median\")\n",
    "sns.heatmap(table,cmap = 'coolwarm')"
   ]
  },
  {
   "cell_type": "markdown",
   "metadata": {
    "tags": []
   },
   "source": [
    "### Задание 3.7.\n",
    "Постройте две диаграммы рассеяния (scatter-диаграммы):\n",
    "* первая должна иллюстрировать географическое расположение точек начала поездок (pickup_longitude, pickup_latitude) \n",
    "* вторая должна географическое расположение точек завершения поездок (dropoff_longitude, dropoff_latitude).\n",
    "\n",
    "Для этого на диаграммах по оси абсцисс отложите широту (longitude), а по оси ординат - долготу (latitude). \n",
    "Включите в визуализацию только те точки, которые находятся в пределах Нью-Йорка - добавьте следующие ограничения на границы осей абсцисс и ординат:\n",
    " \n",
    "city_long_border = (-74.03, -73.75)\n",
    "\n",
    "city_lat_border = (40.63, 40.85)\n",
    "\n",
    "Добавьте на диаграммы расцветку по десяти географическим кластерам (geo_cluster), которые мы сгенерировали ранее. \n",
    "\n",
    "**Рекомендация:** для наглядности уменьшите размер точек на диаграмме рассеяния.  \n"
   ]
  },
  {
   "cell_type": "code",
   "execution_count": 62,
   "metadata": {},
   "outputs": [
    {
     "data": {
      "image/png": "[encoded data removed]",
      "text/plain": [
       "<Figure size 432x288 with 2 Axes>"
      ]
     },
     "metadata": {
      "needs_background": "light"
     },
     "output_type": "display_data"
    }
   ],
   "source": [
    "city_long_border = (-74.03, -73.75)\n",
    "city_lat_border = (40.63, 40.85)\n",
    "\n",
    "ax1 = taxi_data.plot.scatter(x='pickup_longitude',\n",
    "                      y='pickup_latitude',\n",
    "                      c='geo_cluster')\n"
   ]
  },
  {
   "cell_type": "code",
   "execution_count": 63,
   "metadata": {},
   "outputs": [
    {
     "data": {
      "image/png": "[encoded data removed]",
      "text/plain": [
       "<Figure size 432x288 with 1 Axes>"
      ]
     },
     "metadata": {
      "needs_background": "light"
     },
     "output_type": "display_data"
    }
   ],
   "source": [
    "plt.scatter(taxi_data.dropoff_longitude, taxi_data.dropoff_latitude, c=taxi_data.geo_cluster)\n",
    "plt.axhline(y=40.63, color='r', linestyle='-')\n",
    "plt.axhline(y=40.85, color='r', linestyle='-')\n",
    "plt.axvline(x=-74.03, color='r', linestyle='-')\n",
    "plt.axvline(x=-73.75, color='r', linestyle='-')\n",
    "plt.show()"
   ]
  },
  {
   "cell_type": "markdown",
   "metadata": {},
   "source": [
    "## 4. Отбор и преобразование признаков"
   ]
  },
  {
   "cell_type": "markdown",
   "metadata": {},
   "source": [
    "Перед тем как перейти к построению модели, осталось сделать ещё несколько шагов.\n",
    "* Следует помнить, что многие алгоритмы машинного обучения не могут обрабатывать категориальные признаки в их обычном виде. Поэтому нам необходимо их закодировать;\n",
    "* Надо отобрать признаки, которые мы будем использовать для обучения модели;\n",
    "*  Необходимо масштабировать и трансформировать некоторые признаки для того, чтобы улучшить сходимость моделей, в основе которых лежат численные методы.\n"
   ]
  },
  {
   "cell_type": "code",
   "execution_count": 67,
   "metadata": {},
   "outputs": [
    {
     "name": "stdout",
     "output_type": "stream",
     "text": [
      "Shape of data: (1466900, 27)\n",
      "Columns: Index(['id', 'vendor_id', 'pickup_datetime', 'dropoff_datetime',\n",
      "       'passenger_count', 'pickup_longitude', 'pickup_latitude',\n",
      "       'dropoff_longitude', 'dropoff_latitude', 'store_and_fwd_flag',\n",
      "       'trip_duration', 'pickup_date', 'pickup_hour', 'pickup_day_of_week',\n",
      "       'pickup_holiday', 'total_distance', 'total_travel_time',\n",
      "       'number_of_steps', 'haversine_distance', 'direction', 'geo_cluster',\n",
      "       'temperature', 'visibility', 'wind speed', 'precip', 'events',\n",
      "       'trip_duration_log'],\n",
      "      dtype='object')\n"
     ]
    }
   ],
   "source": [
    "print('Shape of data: {}'.format(taxi_data.shape))\n",
    "print('Columns: {}'.format(taxi_data.columns))"
   ]
  },
  {
   "cell_type": "code",
   "execution_count": 66,
   "metadata": {},
   "outputs": [
    {
     "ename": "KeyError",
     "evalue": "\"['day' 'date_x' 'date_y' 'hour' 'time' 'avg_speed'] not found in axis\"",
     "output_type": "error",
     "traceback": [
      "\u001b[1;31m---------------------------------------------------------------------------\u001b[0m",
      "\u001b[1;31mKeyError\u001b[0m                                  Traceback (most recent call last)",
      "\u001b[1;32m<ipython-input-66-0a9b461490b6>\u001b[0m in \u001b[0;36m<module>\u001b[1;34m\u001b[0m\n\u001b[1;32m----> 1\u001b[1;33m \u001b[0mtaxi_data\u001b[0m \u001b[1;33m=\u001b[0m \u001b[0mtaxi_data\u001b[0m\u001b[1;33m.\u001b[0m\u001b[0mdrop\u001b[0m\u001b[1;33m(\u001b[0m\u001b[1;33m[\u001b[0m\u001b[1;34m'day'\u001b[0m\u001b[1;33m,\u001b[0m \u001b[1;34m'date_x'\u001b[0m\u001b[1;33m,\u001b[0m\u001b[1;34m'date_y'\u001b[0m\u001b[1;33m,\u001b[0m \u001b[1;34m'hour'\u001b[0m\u001b[1;33m,\u001b[0m \u001b[1;34m'time'\u001b[0m\u001b[1;33m,\u001b[0m\u001b[1;34m'avg_speed'\u001b[0m\u001b[1;33m]\u001b[0m\u001b[1;33m,\u001b[0m \u001b[0maxis\u001b[0m\u001b[1;33m=\u001b[0m\u001b[1;36m1\u001b[0m\u001b[1;33m)\u001b[0m\u001b[1;33m\u001b[0m\u001b[1;33m\u001b[0m\u001b[0m\n\u001b[0m",
      "\u001b[1;32mC:\\ProgramData\\Anaconda3\\lib\\site-packages\\pandas\\util\\_decorators.py\u001b[0m in \u001b[0;36mwrapper\u001b[1;34m(*args, **kwargs)\u001b[0m\n\u001b[0;32m    309\u001b[0m                     \u001b[0mstacklevel\u001b[0m\u001b[1;33m=\u001b[0m\u001b[0mstacklevel\u001b[0m\u001b[1;33m,\u001b[0m\u001b[1;33m\u001b[0m\u001b[1;33m\u001b[0m\u001b[0m\n\u001b[0;32m    310\u001b[0m                 )\n\u001b[1;32m--> 311\u001b[1;33m             \u001b[1;32mreturn\u001b[0m \u001b[0mfunc\u001b[0m\u001b[1;33m(\u001b[0m\u001b[1;33m*\u001b[0m\u001b[0margs\u001b[0m\u001b[1;33m,\u001b[0m \u001b[1;33m**\u001b[0m\u001b[0mkwargs\u001b[0m\u001b[1;33m)\u001b[0m\u001b[1;33m\u001b[0m\u001b[1;33m\u001b[0m\u001b[0m\n\u001b[0m\u001b[0;32m    312\u001b[0m \u001b[1;33m\u001b[0m\u001b[0m\n\u001b[0;32m    313\u001b[0m         \u001b[1;32mreturn\u001b[0m \u001b[0mwrapper\u001b[0m\u001b[1;33m\u001b[0m\u001b[1;33m\u001b[0m\u001b[0m\n",
      "\u001b[1;32mC:\\ProgramData\\Anaconda3\\lib\\site-packages\\pandas\\core\\frame.py\u001b[0m in \u001b[0;36mdrop\u001b[1;34m(self, labels, axis, index, columns, level, inplace, errors)\u001b[0m\n\u001b[0;32m   4906\u001b[0m             \u001b[0mlevel\u001b[0m\u001b[1;33m=\u001b[0m\u001b[0mlevel\u001b[0m\u001b[1;33m,\u001b[0m\u001b[1;33m\u001b[0m\u001b[1;33m\u001b[0m\u001b[0m\n\u001b[0;32m   4907\u001b[0m             \u001b[0minplace\u001b[0m\u001b[1;33m=\u001b[0m\u001b[0minplace\u001b[0m\u001b[1;33m,\u001b[0m\u001b[1;33m\u001b[0m\u001b[1;33m\u001b[0m\u001b[0m\n\u001b[1;32m-> 4908\u001b[1;33m             \u001b[0merrors\u001b[0m\u001b[1;33m=\u001b[0m\u001b[0merrors\u001b[0m\u001b[1;33m,\u001b[0m\u001b[1;33m\u001b[0m\u001b[1;33m\u001b[0m\u001b[0m\n\u001b[0m\u001b[0;32m   4909\u001b[0m         )\n\u001b[0;32m   4910\u001b[0m \u001b[1;33m\u001b[0m\u001b[0m\n",
      "\u001b[1;32mC:\\ProgramData\\Anaconda3\\lib\\site-packages\\pandas\\core\\generic.py\u001b[0m in \u001b[0;36mdrop\u001b[1;34m(self, labels, axis, index, columns, level, inplace, errors)\u001b[0m\n\u001b[0;32m   4145\u001b[0m         \u001b[1;32mfor\u001b[0m \u001b[0maxis\u001b[0m\u001b[1;33m,\u001b[0m \u001b[0mlabels\u001b[0m \u001b[1;32min\u001b[0m \u001b[0maxes\u001b[0m\u001b[1;33m.\u001b[0m\u001b[0mitems\u001b[0m\u001b[1;33m(\u001b[0m\u001b[1;33m)\u001b[0m\u001b[1;33m:\u001b[0m\u001b[1;33m\u001b[0m\u001b[1;33m\u001b[0m\u001b[0m\n\u001b[0;32m   4146\u001b[0m             \u001b[1;32mif\u001b[0m \u001b[0mlabels\u001b[0m \u001b[1;32mis\u001b[0m \u001b[1;32mnot\u001b[0m \u001b[1;32mNone\u001b[0m\u001b[1;33m:\u001b[0m\u001b[1;33m\u001b[0m\u001b[1;33m\u001b[0m\u001b[0m\n\u001b[1;32m-> 4147\u001b[1;33m                 \u001b[0mobj\u001b[0m \u001b[1;33m=\u001b[0m \u001b[0mobj\u001b[0m\u001b[1;33m.\u001b[0m\u001b[0m_drop_axis\u001b[0m\u001b[1;33m(\u001b[0m\u001b[0mlabels\u001b[0m\u001b[1;33m,\u001b[0m \u001b[0maxis\u001b[0m\u001b[1;33m,\u001b[0m \u001b[0mlevel\u001b[0m\u001b[1;33m=\u001b[0m\u001b[0mlevel\u001b[0m\u001b[1;33m,\u001b[0m \u001b[0merrors\u001b[0m\u001b[1;33m=\u001b[0m\u001b[0merrors\u001b[0m\u001b[1;33m)\u001b[0m\u001b[1;33m\u001b[0m\u001b[1;33m\u001b[0m\u001b[0m\n\u001b[0m\u001b[0;32m   4148\u001b[0m \u001b[1;33m\u001b[0m\u001b[0m\n\u001b[0;32m   4149\u001b[0m         \u001b[1;32mif\u001b[0m \u001b[0minplace\u001b[0m\u001b[1;33m:\u001b[0m\u001b[1;33m\u001b[0m\u001b[1;33m\u001b[0m\u001b[0m\n",
      "\u001b[1;32mC:\\ProgramData\\Anaconda3\\lib\\site-packages\\pandas\\core\\generic.py\u001b[0m in \u001b[0;36m_drop_axis\u001b[1;34m(self, labels, axis, level, errors)\u001b[0m\n\u001b[0;32m   4180\u001b[0m                 \u001b[0mnew_axis\u001b[0m \u001b[1;33m=\u001b[0m \u001b[0maxis\u001b[0m\u001b[1;33m.\u001b[0m\u001b[0mdrop\u001b[0m\u001b[1;33m(\u001b[0m\u001b[0mlabels\u001b[0m\u001b[1;33m,\u001b[0m \u001b[0mlevel\u001b[0m\u001b[1;33m=\u001b[0m\u001b[0mlevel\u001b[0m\u001b[1;33m,\u001b[0m \u001b[0merrors\u001b[0m\u001b[1;33m=\u001b[0m\u001b[0merrors\u001b[0m\u001b[1;33m)\u001b[0m\u001b[1;33m\u001b[0m\u001b[1;33m\u001b[0m\u001b[0m\n\u001b[0;32m   4181\u001b[0m             \u001b[1;32melse\u001b[0m\u001b[1;33m:\u001b[0m\u001b[1;33m\u001b[0m\u001b[1;33m\u001b[0m\u001b[0m\n\u001b[1;32m-> 4182\u001b[1;33m                 \u001b[0mnew_axis\u001b[0m \u001b[1;33m=\u001b[0m \u001b[0maxis\u001b[0m\u001b[1;33m.\u001b[0m\u001b[0mdrop\u001b[0m\u001b[1;33m(\u001b[0m\u001b[0mlabels\u001b[0m\u001b[1;33m,\u001b[0m \u001b[0merrors\u001b[0m\u001b[1;33m=\u001b[0m\u001b[0merrors\u001b[0m\u001b[1;33m)\u001b[0m\u001b[1;33m\u001b[0m\u001b[1;33m\u001b[0m\u001b[0m\n\u001b[0m\u001b[0;32m   4183\u001b[0m             \u001b[0mresult\u001b[0m \u001b[1;33m=\u001b[0m \u001b[0mself\u001b[0m\u001b[1;33m.\u001b[0m\u001b[0mreindex\u001b[0m\u001b[1;33m(\u001b[0m\u001b[1;33m**\u001b[0m\u001b[1;33m{\u001b[0m\u001b[0maxis_name\u001b[0m\u001b[1;33m:\u001b[0m \u001b[0mnew_axis\u001b[0m\u001b[1;33m}\u001b[0m\u001b[1;33m)\u001b[0m\u001b[1;33m\u001b[0m\u001b[1;33m\u001b[0m\u001b[0m\n\u001b[0;32m   4184\u001b[0m \u001b[1;33m\u001b[0m\u001b[0m\n",
      "\u001b[1;32mC:\\ProgramData\\Anaconda3\\lib\\site-packages\\pandas\\core\\indexes\\base.py\u001b[0m in \u001b[0;36mdrop\u001b[1;34m(self, labels, errors)\u001b[0m\n\u001b[0;32m   6016\u001b[0m         \u001b[1;32mif\u001b[0m \u001b[0mmask\u001b[0m\u001b[1;33m.\u001b[0m\u001b[0many\u001b[0m\u001b[1;33m(\u001b[0m\u001b[1;33m)\u001b[0m\u001b[1;33m:\u001b[0m\u001b[1;33m\u001b[0m\u001b[1;33m\u001b[0m\u001b[0m\n\u001b[0;32m   6017\u001b[0m             \u001b[1;32mif\u001b[0m \u001b[0merrors\u001b[0m \u001b[1;33m!=\u001b[0m \u001b[1;34m\"ignore\"\u001b[0m\u001b[1;33m:\u001b[0m\u001b[1;33m\u001b[0m\u001b[1;33m\u001b[0m\u001b[0m\n\u001b[1;32m-> 6018\u001b[1;33m                 \u001b[1;32mraise\u001b[0m \u001b[0mKeyError\u001b[0m\u001b[1;33m(\u001b[0m\u001b[1;34mf\"{labels[mask]} not found in axis\"\u001b[0m\u001b[1;33m)\u001b[0m\u001b[1;33m\u001b[0m\u001b[1;33m\u001b[0m\u001b[0m\n\u001b[0m\u001b[0;32m   6019\u001b[0m             \u001b[0mindexer\u001b[0m \u001b[1;33m=\u001b[0m \u001b[0mindexer\u001b[0m\u001b[1;33m[\u001b[0m\u001b[1;33m~\u001b[0m\u001b[0mmask\u001b[0m\u001b[1;33m]\u001b[0m\u001b[1;33m\u001b[0m\u001b[1;33m\u001b[0m\u001b[0m\n\u001b[0;32m   6020\u001b[0m         \u001b[1;32mreturn\u001b[0m \u001b[0mself\u001b[0m\u001b[1;33m.\u001b[0m\u001b[0mdelete\u001b[0m\u001b[1;33m(\u001b[0m\u001b[0mindexer\u001b[0m\u001b[1;33m)\u001b[0m\u001b[1;33m\u001b[0m\u001b[1;33m\u001b[0m\u001b[0m\n",
      "\u001b[1;31mKeyError\u001b[0m: \"['day' 'date_x' 'date_y' 'hour' 'time' 'avg_speed'] not found in axis\""
     ]
    }
   ],
   "source": [
    "taxi_data = taxi_data.drop(['day', 'date_x','date_y', 'hour', 'time','avg_speed'], axis=1)"
   ]
  },
  {
   "cell_type": "markdown",
   "metadata": {},
   "source": [
    "Для удобства работы сделаем копию исходной таблицы с поездками:"
   ]
  },
  {
   "cell_type": "code",
   "execution_count": 68,
   "metadata": {},
   "outputs": [
    {
     "data": {
      "text/html": [
       "<div>\n",
       "<style scoped>\n",
       "    .dataframe tbody tr th:only-of-type {\n",
       "        vertical-align: middle;\n",
       "    }\n",
       "\n",
       "    .dataframe tbody tr th {\n",
       "        vertical-align: top;\n",
       "    }\n",
       "\n",
       "    .dataframe thead th {\n",
       "        text-align: right;\n",
       "    }\n",
       "</style>\n",
       "<table border=\"1\" class=\"dataframe\">\n",
       "  <thead>\n",
       "    <tr style=\"text-align: right;\">\n",
       "      <th></th>\n",
       "      <th>id</th>\n",
       "      <th>vendor_id</th>\n",
       "      <th>pickup_datetime</th>\n",
       "      <th>dropoff_datetime</th>\n",
       "      <th>passenger_count</th>\n",
       "      <th>pickup_longitude</th>\n",
       "      <th>pickup_latitude</th>\n",
       "      <th>dropoff_longitude</th>\n",
       "      <th>dropoff_latitude</th>\n",
       "      <th>store_and_fwd_flag</th>\n",
       "      <th>...</th>\n",
       "      <th>number_of_steps</th>\n",
       "      <th>haversine_distance</th>\n",
       "      <th>direction</th>\n",
       "      <th>geo_cluster</th>\n",
       "      <th>temperature</th>\n",
       "      <th>visibility</th>\n",
       "      <th>wind speed</th>\n",
       "      <th>precip</th>\n",
       "      <th>events</th>\n",
       "      <th>trip_duration_log</th>\n",
       "    </tr>\n",
       "  </thead>\n",
       "  <tbody>\n",
       "    <tr>\n",
       "      <th>0</th>\n",
       "      <td>id2875421</td>\n",
       "      <td>2</td>\n",
       "      <td>2016-03-14 17:24:55</td>\n",
       "      <td>2016-03-14 17:32:30</td>\n",
       "      <td>1</td>\n",
       "      <td>-73.982155</td>\n",
       "      <td>40.767937</td>\n",
       "      <td>-73.964630</td>\n",
       "      <td>40.765602</td>\n",
       "      <td>N</td>\n",
       "      <td>...</td>\n",
       "      <td>5.0</td>\n",
       "      <td>1.498521</td>\n",
       "      <td>99.970196</td>\n",
       "      <td>2</td>\n",
       "      <td>4.4</td>\n",
       "      <td>8.0</td>\n",
       "      <td>27.8</td>\n",
       "      <td>0.3</td>\n",
       "      <td>None</td>\n",
       "      <td>6.122493</td>\n",
       "    </tr>\n",
       "    <tr>\n",
       "      <th>1</th>\n",
       "      <td>id2377394</td>\n",
       "      <td>1</td>\n",
       "      <td>2016-06-12 00:43:35</td>\n",
       "      <td>2016-06-12 00:54:38</td>\n",
       "      <td>1</td>\n",
       "      <td>-73.980415</td>\n",
       "      <td>40.738564</td>\n",
       "      <td>-73.999481</td>\n",
       "      <td>40.731152</td>\n",
       "      <td>N</td>\n",
       "      <td>...</td>\n",
       "      <td>6.0</td>\n",
       "      <td>1.805507</td>\n",
       "      <td>-117.153768</td>\n",
       "      <td>0</td>\n",
       "      <td>28.9</td>\n",
       "      <td>16.1</td>\n",
       "      <td>7.4</td>\n",
       "      <td>0.0</td>\n",
       "      <td>None</td>\n",
       "      <td>6.498282</td>\n",
       "    </tr>\n",
       "    <tr>\n",
       "      <th>2</th>\n",
       "      <td>id3858529</td>\n",
       "      <td>2</td>\n",
       "      <td>2016-01-19 11:35:24</td>\n",
       "      <td>2016-01-19 12:10:48</td>\n",
       "      <td>1</td>\n",
       "      <td>-73.979027</td>\n",
       "      <td>40.763939</td>\n",
       "      <td>-74.005333</td>\n",
       "      <td>40.710087</td>\n",
       "      <td>N</td>\n",
       "      <td>...</td>\n",
       "      <td>16.0</td>\n",
       "      <td>6.385098</td>\n",
       "      <td>-159.680165</td>\n",
       "      <td>0</td>\n",
       "      <td>-6.7</td>\n",
       "      <td>16.1</td>\n",
       "      <td>24.1</td>\n",
       "      <td>0.0</td>\n",
       "      <td>None</td>\n",
       "      <td>7.661527</td>\n",
       "    </tr>\n",
       "    <tr>\n",
       "      <th>3</th>\n",
       "      <td>id3504673</td>\n",
       "      <td>2</td>\n",
       "      <td>2016-04-06 19:32:31</td>\n",
       "      <td>2016-04-06 19:39:40</td>\n",
       "      <td>1</td>\n",
       "      <td>-74.010040</td>\n",
       "      <td>40.719971</td>\n",
       "      <td>-74.012268</td>\n",
       "      <td>40.706718</td>\n",
       "      <td>N</td>\n",
       "      <td>...</td>\n",
       "      <td>4.0</td>\n",
       "      <td>1.485498</td>\n",
       "      <td>-172.737700</td>\n",
       "      <td>0</td>\n",
       "      <td>7.2</td>\n",
       "      <td>16.1</td>\n",
       "      <td>25.9</td>\n",
       "      <td>0.0</td>\n",
       "      <td>None</td>\n",
       "      <td>6.063785</td>\n",
       "    </tr>\n",
       "    <tr>\n",
       "      <th>4</th>\n",
       "      <td>id2181028</td>\n",
       "      <td>2</td>\n",
       "      <td>2016-03-26 13:30:55</td>\n",
       "      <td>2016-03-26 13:38:10</td>\n",
       "      <td>1</td>\n",
       "      <td>-73.973053</td>\n",
       "      <td>40.793209</td>\n",
       "      <td>-73.972923</td>\n",
       "      <td>40.782520</td>\n",
       "      <td>N</td>\n",
       "      <td>...</td>\n",
       "      <td>5.0</td>\n",
       "      <td>1.188588</td>\n",
       "      <td>179.473585</td>\n",
       "      <td>2</td>\n",
       "      <td>9.4</td>\n",
       "      <td>16.1</td>\n",
       "      <td>9.3</td>\n",
       "      <td>0.0</td>\n",
       "      <td>None</td>\n",
       "      <td>6.077642</td>\n",
       "    </tr>\n",
       "  </tbody>\n",
       "</table>\n",
       "<p>5 rows × 27 columns</p>\n",
       "</div>"
      ],
      "text/plain": [
       "          id  vendor_id     pickup_datetime     dropoff_datetime  \\\n",
       "0  id2875421          2 2016-03-14 17:24:55  2016-03-14 17:32:30   \n",
       "1  id2377394          1 2016-06-12 00:43:35  2016-06-12 00:54:38   \n",
       "2  id3858529          2 2016-01-19 11:35:24  2016-01-19 12:10:48   \n",
       "3  id3504673          2 2016-04-06 19:32:31  2016-04-06 19:39:40   \n",
       "4  id2181028          2 2016-03-26 13:30:55  2016-03-26 13:38:10   \n",
       "\n",
       "   passenger_count  pickup_longitude  pickup_latitude  dropoff_longitude  \\\n",
       "0                1        -73.982155        40.767937         -73.964630   \n",
       "1                1        -73.980415        40.738564         -73.999481   \n",
       "2                1        -73.979027        40.763939         -74.005333   \n",
       "3                1        -74.010040        40.719971         -74.012268   \n",
       "4                1        -73.973053        40.793209         -73.972923   \n",
       "\n",
       "   dropoff_latitude store_and_fwd_flag  ...  number_of_steps  \\\n",
       "0         40.765602                  N  ...              5.0   \n",
       "1         40.731152                  N  ...              6.0   \n",
       "2         40.710087                  N  ...             16.0   \n",
       "3         40.706718                  N  ...              4.0   \n",
       "4         40.782520                  N  ...              5.0   \n",
       "\n",
       "  haversine_distance   direction  geo_cluster temperature  visibility  \\\n",
       "0           1.498521   99.970196            2         4.4         8.0   \n",
       "1           1.805507 -117.153768            0        28.9        16.1   \n",
       "2           6.385098 -159.680165            0        -6.7        16.1   \n",
       "3           1.485498 -172.737700            0         7.2        16.1   \n",
       "4           1.188588  179.473585            2         9.4        16.1   \n",
       "\n",
       "   wind speed  precip  events  trip_duration_log  \n",
       "0        27.8     0.3    None           6.122493  \n",
       "1         7.4     0.0    None           6.498282  \n",
       "2        24.1     0.0    None           7.661527  \n",
       "3        25.9     0.0    None           6.063785  \n",
       "4         9.3     0.0    None           6.077642  \n",
       "\n",
       "[5 rows x 27 columns]"
      ]
     },
     "execution_count": 68,
     "metadata": {},
     "output_type": "execute_result"
    }
   ],
   "source": [
    "train_data = taxi_data.copy()\n",
    "train_data.head()"
   ]
  },
  {
   "cell_type": "markdown",
   "metadata": {},
   "source": [
    "## Задание 4.1.\n",
    "Сразу позаботимся об очевидных неинформативных и избыточных признаках. \n",
    "\n",
    "а) Какой из признаков является уникальным для каждой поездки и не несет полезной информации в определении ее продолжительности?\n",
    "\n",
    "б) Утечка данных (data leak) - это…\n",
    "\n",
    "в) Подумайте, наличие какого из признаков в обучающем наборе данных создает утечку данных?\n",
    "\n",
    "г) Исключите выбранные в пунктах а) и в) признаки из исходной таблицы с данными. Сколько столбцов в таблице у вас осталось?\n"
   ]
  },
  {
   "cell_type": "code",
   "execution_count": 69,
   "metadata": {},
   "outputs": [],
   "source": [
    "train_data = train_data.drop(['dropoff_datetime','id'], axis=1)"
   ]
  },
  {
   "cell_type": "markdown",
   "metadata": {},
   "source": [
    "Ранее мы извлекли всю необходимую для нас информацию из даты начала поездки, теперь мы можем избавиться от этих признаков, так как они нам больше не понадобятся:\n"
   ]
  },
  {
   "cell_type": "code",
   "execution_count": 70,
   "metadata": {},
   "outputs": [
    {
     "name": "stdout",
     "output_type": "stream",
     "text": [
      "Shape of data:  (1466900, 23)\n"
     ]
    }
   ],
   "source": [
    "drop_columns = ['pickup_datetime', 'pickup_date']\n",
    "train_data = train_data.drop(drop_columns, axis=1)\n",
    "print('Shape of data:  {}'.format(train_data.shape))"
   ]
  },
  {
   "cell_type": "markdown",
   "metadata": {},
   "source": [
    "### Задание 4.2.\n",
    "Закодируйте признак vendor_id в таблице train_data таким образом, чтобы он был равен 0, если идентификатор таксопарка равен 0, и 1 в противном случае.\n",
    "\n",
    "Закодируйте признак store_and_fwd_flag в таблице train_data таким образом, чтобы он был равен 0, если флаг выставлен в значение \"N\", и 0 в противном случае.\n",
    "\n",
    "а) Рассчитайте среднее по закодированному столбцу vendor_id. Ответ приведите с точностью до сотых.\n",
    "\n",
    "б) Рассчитайте среднее по закодированному столбцу store_and_fwd_flag. Ответ приведите с точностью до тысячных.\n",
    "\n"
   ]
  },
  {
   "cell_type": "code",
   "execution_count": 71,
   "metadata": {},
   "outputs": [],
   "source": [
    "train_data.loc[train_data.vendor_id == 1, 'vendor_id'] = 0\n",
    "train_data.loc[train_data.vendor_id == 2, 'vendor_id'] = 1"
   ]
  },
  {
   "cell_type": "code",
   "execution_count": 72,
   "metadata": {},
   "outputs": [],
   "source": [
    "train_data.loc[train_data.store_and_fwd_flag == \"N\", 'store_and_fwd_flag'] = 0\n",
    "train_data.loc[train_data.store_and_fwd_flag == \"Y\", 'store_and_fwd_flag'] = 1"
   ]
  },
  {
   "cell_type": "code",
   "execution_count": 73,
   "metadata": {},
   "outputs": [
    {
     "name": "stdout",
     "output_type": "stream",
     "text": [
      "Среднее по vendor_id:  0.53\n",
      "Среднее по store_and_fwd_flag:  0.006\n"
     ]
    }
   ],
   "source": [
    "print('Среднее по vendor_id:  {}'.format(round(train_data.vendor_id.mean(),2)))\n",
    "print('Среднее по store_and_fwd_flag:  {}'.format(round(train_data.store_and_fwd_flag.mean(),3)))"
   ]
  },
  {
   "cell_type": "markdown",
   "metadata": {},
   "source": [
    "### Задание 4.3.\n",
    "Создайте таблицу data_onehot из закодированных однократным кодированием признаков pickup_day_of_week, pickup_dropoff_cluster и events в таблице train_data с помощью OneHotEndoder() из библиотеки sklearn. Параметр drop выставите в значение 'first', чтобы удалять первый бинарный столбец, тем самым не создавая излишних признаков.\n",
    "\n",
    "Сколько бинарных столбцов у вас получилось сгенерировать с помощью однократного кодирования?\n"
   ]
  },
  {
   "cell_type": "code",
   "execution_count": 74,
   "metadata": {},
   "outputs": [
    {
     "data": {
      "text/plain": [
       "Index(['pickup_day_of_week_1', 'pickup_day_of_week_2', 'pickup_day_of_week_3',\n",
       "       'pickup_day_of_week_4', 'pickup_day_of_week_5', 'pickup_day_of_week_6',\n",
       "       'geo_cluster_1', 'geo_cluster_2', 'geo_cluster_3', 'geo_cluster_4',\n",
       "       'geo_cluster_5', 'geo_cluster_6', 'geo_cluster_7', 'geo_cluster_8',\n",
       "       'geo_cluster_9', 'events_None', 'events_Rain', 'events_Snow'],\n",
       "      dtype='object')"
      ]
     },
     "execution_count": 74,
     "metadata": {},
     "output_type": "execute_result"
    }
   ],
   "source": [
    "encoder = OneHotEncoder(drop='first')\n",
    "#perform one-hot encoding on 'team' column\n",
    "transformed = encoder.fit_transform(train_data[['pickup_day_of_week','geo_cluster','events']])\n",
    "encoder_df = pd.DataFrame(transformed.toarray())\n",
    "encoder_df.columns = encoder.get_feature_names_out(['pickup_day_of_week','geo_cluster','events'])\n",
    "encoder_df.columns"
   ]
  },
  {
   "cell_type": "markdown",
   "metadata": {},
   "source": [
    "Добавим полученную таблицу с закодированными признаками:"
   ]
  },
  {
   "cell_type": "code",
   "execution_count": 75,
   "metadata": {},
   "outputs": [
    {
     "name": "stdout",
     "output_type": "stream",
     "text": [
      "Shape of data: (1466900, 38)\n"
     ]
    }
   ],
   "source": [
    "columns_to_change = ['pickup_day_of_week','geo_cluster','events']\n",
    "train_data = pd.concat(\n",
    "    [train_data.reset_index(drop=True).drop(columns_to_change, axis=1), encoder_df], \n",
    "    axis=1\n",
    ")\n",
    "print('Shape of data: {}'.format(train_data.shape))"
   ]
  },
  {
   "cell_type": "markdown",
   "metadata": {},
   "source": [
    "Теперь, когда категориальные признаки предобработаны, сформируем матрицу наблюдений X, вектор целевой переменной y и его логарифм y_log. В матрицу наблюдений войдут все столбцы из таблицы с поездками за исключением целевого признака trip_duration и его логарифмированной версии trip_duration_log:\n"
   ]
  },
  {
   "cell_type": "code",
   "execution_count": 76,
   "metadata": {},
   "outputs": [],
   "source": [
    "X = train_data.drop(['trip_duration', 'trip_duration_log'], axis=1)\n",
    "y = train_data['trip_duration']\n",
    "y_log = train_data['trip_duration_log']"
   ]
  },
  {
   "cell_type": "markdown",
   "metadata": {},
   "source": [
    "Все наши модели мы будем обучать на логарифмированной версии y_log. "
   ]
  },
  {
   "cell_type": "markdown",
   "metadata": {},
   "source": [
    "Выбранный тип валидации - hold-out. Разобьем выборку на обучающую и валидационную в соотношении 67/33:"
   ]
  },
  {
   "cell_type": "code",
   "execution_count": 77,
   "metadata": {},
   "outputs": [],
   "source": [
    "X_train, X_valid, y_train_log, y_valid_log = model_selection.train_test_split(\n",
    "    X, y_log, \n",
    "    test_size=0.33, \n",
    "    random_state=42\n",
    ")"
   ]
  },
  {
   "cell_type": "markdown",
   "metadata": {},
   "source": [
    "На данный момент у нас достаточно много признаков: скорее всего, не все из них будут важны. Давайте оставим лишь те, которые сильнее всего связаны с целевой переменной и точно будут вносить вклад в повышение качества модели.\n"
   ]
  },
  {
   "cell_type": "markdown",
   "metadata": {},
   "source": [
    "## Задание 4.4.\n",
    "С помощью SelectKBest отберите 25 признаков, наилучшим образом подходящих для предсказания целевой переменной в логарифмическом масштабе. Отбор реализуйте по обучающей выборке, используя параметр score_func = f_regression.\n",
    "\n",
    "Укажите признаки, которые вошли в список отобранных\n"
   ]
  },
  {
   "cell_type": "code",
   "execution_count": 78,
   "metadata": {},
   "outputs": [
    {
     "name": "stderr",
     "output_type": "stream",
     "text": [
      "C:\\ProgramData\\Anaconda3\\lib\\site-packages\\sklearn\\feature_selection\\_univariate_selection.py:289: RuntimeWarning: invalid value encountered in true_divide\n",
      "  correlation_coefficient /= X_norms\n"
     ]
    },
    {
     "data": {
      "text/plain": [
       "Index(['vendor_id', 'passenger_count', 'pickup_longitude', 'pickup_latitude',\n",
       "       'dropoff_longitude', 'dropoff_latitude', 'store_and_fwd_flag',\n",
       "       'pickup_hour', 'pickup_holiday', 'total_distance', 'total_travel_time',\n",
       "       'number_of_steps', 'haversine_distance', 'temperature',\n",
       "       'pickup_day_of_week_2', 'pickup_day_of_week_3', 'pickup_day_of_week_4',\n",
       "       'pickup_day_of_week_5', 'pickup_day_of_week_6', 'geo_cluster_2',\n",
       "       'geo_cluster_3', 'geo_cluster_4', 'geo_cluster_6', 'geo_cluster_8',\n",
       "       'geo_cluster_9'],\n",
       "      dtype='object')"
      ]
     },
     "execution_count": 78,
     "metadata": {},
     "output_type": "execute_result"
    }
   ],
   "source": [
    "selector = SelectKBest(f_regression, k=25)\n",
    "X_train_new = selector.fit_transform(X_train, y_train_log)\n",
    "features = X_train.columns.values[selector.get_support()]\n",
    "X_train_new = X_train[features]\n",
    "X_train_new.columns"
   ]
  },
  {
   "cell_type": "markdown",
   "metadata": {},
   "source": [
    "Так как мы будем использовать различные модели, в том числе внутри которых заложены численные методы оптимизации, то давайте заранее позаботимся о масштабировании факторов. \n"
   ]
  },
  {
   "cell_type": "markdown",
   "metadata": {},
   "source": [
    "### Задание 4.5.\n",
    "Нормализуйте предикторы в обучающей и валидационной выборках с помощью MinMaxScaler из библиотеки sklearn. Помните, что обучение нормализатора производится на обучающей выборке, а трансформация на обучающей и валидационной!\n",
    "\n",
    "Рассчитайте среднее арифметическое для первого предиктора (т. е. для первого столбца матрицы) из валидационной выборки. Ответ округлите до сотых.\n"
   ]
  },
  {
   "cell_type": "code",
   "execution_count": 79,
   "metadata": {},
   "outputs": [],
   "source": [
    "scaler = MinMaxScaler()\n",
    "scaler.fit(X_train_new)\n",
    "X_train_new_scaled = pd.DataFrame(scaler.transform(X_train_new),columns= X_train_new.columns)"
   ]
  },
  {
   "cell_type": "code",
   "execution_count": 80,
   "metadata": {},
   "outputs": [],
   "source": [
    "features_columns = X_train_new.columns\n",
    "X_valid = X_valid[features_columns]"
   ]
  },
  {
   "cell_type": "code",
   "execution_count": 81,
   "metadata": {},
   "outputs": [],
   "source": [
    "scaler = MinMaxScaler()\n",
    "scaler.fit(X_train_new)\n",
    "X_valid_scaled = pd.DataFrame(scaler.transform(X_valid),columns= X_valid.columns)"
   ]
  },
  {
   "cell_type": "code",
   "execution_count": 82,
   "metadata": {},
   "outputs": [
    {
     "name": "stdout",
     "output_type": "stream",
     "text": [
      "Среднее для первого предиктора: 0.54\n"
     ]
    }
   ],
   "source": [
    "print('Среднее для первого предиктора: {}'.format(round(X_valid_scaled.iloc[:,0].mean(),2)))"
   ]
  },
  {
   "cell_type": "markdown",
   "metadata": {},
   "source": [
    "## 5. Решение задачи регрессии: линейная регрессия и деревья решений"
   ]
  },
  {
   "cell_type": "markdown",
   "metadata": {},
   "source": [
    "Определим метрику, по которой мы будем измерять качество наших моделей. Мы будем следовать канонам исходного соревнования на Kaggle и в качестве метрики использовать RMSLE (Root Mean Squared Log Error), которая вычисляется как:\n",
    "$$RMSLE = \\sqrt{\\frac{1}{n}\\sum_{i=1}^n(log(y_i+1)-log(\\hat{y_i}+1))^2},$$\n",
    "где:\n",
    "* $y_i$ - истинная длительность i-ой поездки на такси (trip_duration)\n",
    "* $\\hat{y_i}$- предсказанная моделью длительность i-ой поездки на такси\n",
    "\n",
    "Заметим, что логарифмирование целевого признака мы уже провели заранее, поэтому нам будет достаточно вычислить метрику RMSE для модели, обученной прогнозировать длительность поездки такси в логарифмическом масштабе:\n",
    "$$z_i=log(y_i+1),$$\n",
    "$$RMSLE = \\sqrt{\\frac{1}{n}\\sum_{i=1}^n(z_i-\\hat{z_i})^2}=\\sqrt{MSE(z_i,\\hat{z_i})}$$ \n",
    "\n"
   ]
  },
  {
   "cell_type": "markdown",
   "metadata": {},
   "source": [
    "### Задание 5.1.\n",
    "Постройте модель линейной регрессии на обучающей выборке (факторы должны быть нормализованы, целевую переменную используйте в логарифмическом масштабе). Все параметры оставьте по умолчанию.\n",
    "\n",
    "Для полученной модели рассчитайте метрику RMSLE на тренировочной и валидационной выборках. Ответ округлите до сотых.\n"
   ]
  },
  {
   "cell_type": "code",
   "execution_count": 83,
   "metadata": {},
   "outputs": [
    {
     "name": "stdout",
     "output_type": "stream",
     "text": [
      "Train MSE: 0.53\n",
      "Valid MSE: 0.53\n"
     ]
    }
   ],
   "source": [
    "#Создаём объект класса LinearRegression\n",
    "lr_model = linear_model.LinearRegression()\n",
    "lr_model.fit(X_train_new_scaled,  y_train_log)\n",
    " \n",
    "#Делаем предсказание для тренировочной выборки\n",
    "y_train_predict = lr_model.predict(X_train_new_scaled)\n",
    "#Делаем предсказание для тестовой выборки\n",
    "y_valid_predict = lr_model.predict(X_valid_scaled)\n",
    " \n",
    "print(\"Train MSE: {:.2f}\".format(metrics.mean_squared_error(y_train_log, y_train_predict)**0.5))\n",
    "print(\"Valid MSE: {:.2f}\".format(metrics.mean_squared_error(y_valid_log, y_valid_predict)**0.5))"
   ]
  },
  {
   "cell_type": "markdown",
   "metadata": {},
   "source": [
    "### Задание 5.2.\n",
    "Сгенерируйте полиномиальные признаки 2-ой степени с помощью PolynomialFeatures из библиотеки sklearn. Параметр include_bias выставите в значение False.\n",
    "\n",
    "Постройте модель полиномиальной регрессии 2-ой степени на обучающей выборке (факторы должны быть нормализованы, целевую переменную используйте в логарифмическом масштабе). Все параметры оставьте по умолчанию.\n",
    "\n",
    "а) Для полученной модели рассчитайте метрику RMSLE на тренировочной и валидационной выборках. Ответ округлите до сотых.\n",
    "\n",
    "б) Наблюдаются ли у вашей модели признаки переобучения?\n"
   ]
  },
  {
   "cell_type": "code",
   "execution_count": 84,
   "metadata": {},
   "outputs": [],
   "source": [
    "#Создаём генератор полиномиальных признаков\n",
    "poly = preprocessing.PolynomialFeatures(degree=2, include_bias=False)\n",
    "poly.fit(X_train_new_scaled)\n",
    "#Генерируем полиномиальные признаки для тренировочной выборки\n",
    "X_train_poly = poly.transform(X_train_new_scaled)\n",
    "#Генерируем полиномиальные признаки для тестовой выборки\n",
    "X_valid_poly = poly.transform(X_valid_scaled)"
   ]
  },
  {
   "cell_type": "code",
   "execution_count": 85,
   "metadata": {},
   "outputs": [
    {
     "name": "stdout",
     "output_type": "stream",
     "text": [
      "Train MSE: 0.46\n",
      "Valid MSE: 0.90\n"
     ]
    }
   ],
   "source": [
    "#Создаём объект класса LinearRegression\n",
    "lr_model_poly = linear_model.LinearRegression()\n",
    "#Обучаем модель по МНК\n",
    "lr_model_poly.fit(X_train_poly, y_train_log)\n",
    "#Делаем предсказание для тренировочной выборки\n",
    "y_train_predict_poly = lr_model_poly.predict(X_train_poly)\n",
    "#Делаем предсказание для тестовой выборки\n",
    "y_valid_predict_poly = lr_model_poly.predict(X_valid_poly)\n",
    "\n",
    "print(\"Train MSE: {:.2f}\".format(metrics.mean_squared_error(y_train_log, y_train_predict_poly)**0.5))\n",
    "print(\"Valid MSE: {:.2f}\".format(metrics.mean_squared_error(y_valid_log, y_valid_predict_poly)**0.5))"
   ]
  },
  {
   "cell_type": "markdown",
   "metadata": {},
   "source": [
    "### Задание 5.3.\n",
    "Постройте модель полиномиальной регрессии 2-ой степени с L2-регуляризацией (регуляризация по Тихонову) на обучающей выборке  (факторы должны быть нормализованы, целевую переменную используйте в логарифмическом масштабе). Коэффициент регуляризации $\\alpha установите равным 1, остальные параметры оставьте по умолчанию.\n",
    "\n",
    "Для полученной модели рассчитайте метрику RMSLE на тренировочной и валидационной выборках. Ответ округлите до сотых.\n"
   ]
  },
  {
   "cell_type": "code",
   "execution_count": 88,
   "metadata": {},
   "outputs": [
    {
     "name": "stdout",
     "output_type": "stream",
     "text": [
      "Train MSE: 0.47\n",
      "Valid MSE: 0.47\n"
     ]
    }
   ],
   "source": [
    "#Создаём объект класса линейной регрессии с L2-регуляризацией\n",
    "ridge_lr_poly = linear_model.Ridge(alpha=1)\n",
    "#Обучаем модель\n",
    "ridge_lr_poly.fit(X_train_poly, y_train_log)\n",
    "#Делаем предсказание для тренировочной выборки\n",
    "y_train_predict_poly = ridge_lr_poly.predict(X_train_poly)\n",
    "#Делаем предсказание для тестовой выборки\n",
    "y_valid_predict_poly = ridge_lr_poly.predict(X_valid_poly)\n",
    "#Рассчитываем коэффициент детерминации для двух выборок\n",
    "print(\"Train MSE: {:.2f}\".format(metrics.mean_squared_error(y_train_log, y_train_predict_poly)**0.5))\n",
    "print(\"Valid MSE: {:.2f}\".format(metrics.mean_squared_error(y_valid_log, y_valid_predict_poly)**0.5))"
   ]
  },
  {
   "cell_type": "markdown",
   "metadata": {},
   "source": [
    "### Задание 5.4.\n",
    "Постройте модель дерева решений (DecisionTreeRegressor) на обучающей выборке (факторы должны быть нормализованы, целевую переменную используйте в логарифмическом масштабе). Все параметры оставьте по умолчанию. \n",
    "\n",
    "а) Для полученной модели рассчитайте метрику RMSLE на тренировочной и валидационной выборках. Ответ округлите до сотых.\n",
    "\n",
    "б) Наблюдаются ли у вашей модели признаки переобучения?\n"
   ]
  },
  {
   "cell_type": "code",
   "execution_count": 90,
   "metadata": {},
   "outputs": [
    {
     "name": "stdout",
     "output_type": "stream",
     "text": [
      "Train MSE: 0.00\n",
      "Valid MSE: 0.57\n"
     ]
    }
   ],
   "source": [
    "#Создаём объект класса DecisionTreeClassifier\n",
    "dt_taxi = tree.DecisionTreeRegressor()\n",
    "#Обучаем дерево решений по алгоритму CART без ограничения его длины\n",
    "dt_taxi.fit(X_train_new_scaled, y_train_log)\n",
    "\n",
    "y_train_pred = dt_taxi.predict(X_train_new_scaled)\n",
    "y_valid_pred = dt_taxi.predict(X_valid_scaled)\n",
    "\n",
    "print(\"Train MSE: {:.2f}\".format(metrics.mean_squared_error(y_train_log, y_train_pred)**0.5))\n",
    "print(\"Valid MSE: {:.2f}\".format(metrics.mean_squared_error(y_valid_log, y_valid_pred )**0.5))"
   ]
  },
  {
   "cell_type": "markdown",
   "metadata": {},
   "source": [
    "### Задание 5.5.\n",
    "Переберите все возможные варианты глубины дерева решений в диапазоне от 7 до 20:\n",
    "\n",
    "max_depths = range(7, 20)\n",
    "\n",
    "Постройте линейные графики изменения метрики RMSE на тренировочной и валидационной выборках в зависимости от значения параметра глубины дерева решений. \n",
    "\n",
    "а) Найдите оптимальное значение максимальной глубины дерева, для которой будет наблюдаться минимальное значение RMSLE на обучающей выборке, но при этом еще не будет наблюдаться переобучение (валидационная кривая еще не начинает возрастать).\n",
    "\n",
    "б) Чему равно значение метрик RMSLE на тренировочной и валидационной выборках для дерева решений с выбранной оптимальной глубиной? Ответ округлите до сотых.\n"
   ]
  },
  {
   "cell_type": "code",
   "execution_count": 94,
   "metadata": {},
   "outputs": [],
   "source": [
    "#Создаём список из 20 возможных значений от 0.001 до 1\n",
    "max_depths_list = range(7, 20)\n",
    "#Создаём пустые списки, в которые будем добавлять результаты \n",
    "train_scores = []\n",
    "test_scores = []\n",
    "for max_depth in range(7, 20):\n",
    "    dt_taxi = tree.DecisionTreeRegressor(max_depth=max_depth)\n",
    "    #Обучаем модель\n",
    "    dt_taxi.fit(X_train_new_scaled, y_train_log)\n",
    "    #Делаем предсказание для тренировочной выборки\n",
    "    y_train_pred = dt_taxi.predict(X_train_new_scaled)\n",
    "    y_valid_pred = dt_taxi.predict(X_valid_scaled)\n",
    "    #Рассчитываем коэффициенты детерминации для двух выборок и добавляем их в списки\n",
    "    train_scores.append(metrics.mean_squared_error(y_train_log, y_train_pred)**0.5)\n",
    "    test_scores.append(metrics.mean_squared_error(y_valid_log, y_valid_pred)**0.5)"
   ]
  },
  {
   "cell_type": "code",
   "execution_count": 95,
   "metadata": {},
   "outputs": [
    {
     "data": {
      "image/png": "[encoded data removed]",
      "text/plain": [
       "<Figure size 864x288 with 1 Axes>"
      ]
     },
     "metadata": {
      "needs_background": "light"
     },
     "output_type": "display_data"
    }
   ],
   "source": [
    "#Визуализируем изменение R^2 в зависимости от alpha\n",
    "fig, ax = plt.subplots(figsize=(12, 4)) #фигура + координатная плоскость\n",
    "ax.plot(max_depths_list, train_scores, label='Train') #линейный график для тренировочной выборки\n",
    "ax.plot(max_depths_list, test_scores, label='Test') #линейный график для тестовой выборки\n",
    "ax.set_xlabel('Max depths') #название оси абсцисс\n",
    "ax.set_ylabel('MSE') #название оси ординат\n",
    "ax.set_xticks(max_depths_list) #метки по оси абсцисс\n",
    "ax.xaxis.set_tick_params(rotation=45) #поворот меток на оси абсцисс\n",
    "ax.legend(); #отображение легенды"
   ]
  },
  {
   "cell_type": "markdown",
   "metadata": {},
   "source": [
    "## 6. Решение задачи регрессии: ансамблевые методы и построение прогноза"
   ]
  },
  {
   "cell_type": "markdown",
   "metadata": {},
   "source": [
    "Переходим к тяжелой артиллерии: ансамблевым алгоритмам. "
   ]
  },
  {
   "cell_type": "markdown",
   "metadata": {},
   "source": [
    "### Задание 6.1.\n",
    "\n",
    "Постройте модель случайного леса на обучающей выборке (факторы должны быть нормализованы, целевую переменную используйте в логарифмическом масштабе). В качестве гиперпараметров укажите следующие:\n",
    "* n_estimators=200,\n",
    "* max_depth=12,\n",
    "* criterion='squared_error',\n",
    "* min_samples_split=20,\n",
    "* random_state=42\n",
    "\n",
    "Для полученной модели рассчитайте метрику RMSLE на тренировочной и валидационной выборках. Ответ округлите до сотых.\n"
   ]
  },
  {
   "cell_type": "code",
   "execution_count": 102,
   "metadata": {},
   "outputs": [
    {
     "name": "stdout",
     "output_type": "stream",
     "text": [
      "Train MSE: 0.40\n",
      "Valid MSE: 0.41\n"
     ]
    }
   ],
   "source": [
    "dt_random = ensemble.RandomForestRegressor(\n",
    "    n_estimators=200,\n",
    "    max_depth=12,\n",
    "    criterion='squared_error',\n",
    "    min_samples_split=20,\n",
    "    random_state=42\n",
    ")\n",
    "#Обучаем дерево решений по алгоритму CART без ограничения его длины\n",
    "dt_random.fit(X_train_new_scaled, y_train_log)\n",
    "\n",
    "y_train_pred = dt_random.predict(X_train_new_scaled)\n",
    "y_valid_pred = dt_random.predict(X_valid_scaled)\n",
    "\n",
    "print(\"Train MSE: {:.2f}\".format(metrics.mean_squared_error(y_train_log, y_train_pred)**0.5))\n",
    "print(\"Valid MSE: {:.2f}\".format(metrics.mean_squared_error(y_valid_log, y_valid_pred )**0.5))"
   ]
  },
  {
   "cell_type": "markdown",
   "metadata": {},
   "source": [
    "### Задание 6.2.\n",
    "Постройте модель градиентного бустинга над деревьями решений (GradientBoostingRegressor) на обучающей выборке (факторы должны быть нормализованы, целевую переменную используйте в логарифмическом масштабе). В качестве гиперпараметров укажите следующие:\n",
    "* learning_rate=0.5,\n",
    "* n_estimators=100,\n",
    "* max_depth=6, \n",
    "* min_samples_split=30,\n",
    "* random_state=42\n",
    "\n",
    "Для полученной модели рассчитайте метрику RMSLE на тренировочной и валидационной выборках. Ответ округлите до сотых.\n"
   ]
  },
  {
   "cell_type": "code",
   "execution_count": 103,
   "metadata": {},
   "outputs": [
    {
     "name": "stdout",
     "output_type": "stream",
     "text": [
      "Train MSE: 0.37\n",
      "Valid MSE: 0.39\n"
     ]
    }
   ],
   "source": [
    "gbr = ensemble.GradientBoostingRegressor(\n",
    "    n_estimators=100,\n",
    "    max_depth=6,\n",
    "    learning_rate = 0.5,\n",
    "    min_samples_split=30,\n",
    "    random_state=42\n",
    ")\n",
    "#Обучаем дерево решений по алгоритму CART без ограничения его длины\n",
    "gbr.fit(X_train_new_scaled, y_train_log)\n",
    "\n",
    "y_train_pred = gbr.predict(X_train_new_scaled)\n",
    "y_valid_pred = gbr.predict(X_valid_scaled)\n",
    "\n",
    "print(\"Train MSE: {:.2f}\".format(metrics.mean_squared_error(y_train_log, y_train_pred)**0.5))\n",
    "print(\"Valid MSE: {:.2f}\".format(metrics.mean_squared_error(y_valid_log, y_valid_pred )**0.5))"
   ]
  },
  {
   "cell_type": "markdown",
   "metadata": {},
   "source": [
    "### Задание 6.3.\n",
    "Какая из построенных вами моделей показала наилучший результат (наименьшее значение RMSLE на валидационной выборке)?\n",
    "* Линейная регрессия\n",
    "* Полиномиальная регрессия 2ой степени\n",
    "* Дерево решений\n",
    "* Случайный лес\n",
    "* Градиентный бустинг над деревьями решений\n"
   ]
  },
  {
   "cell_type": "markdown",
   "metadata": {},
   "source": [
    "### Задание 6.4.\n",
    "Постройте столбчатую диаграмму коэффициентов значимости каждого из факторов.\n",
    "\n",
    "Укажите топ-3 наиболее значимых для предсказания целевого признака - длительности поездки в логарифмическом масштабе - факторов.\n"
   ]
  },
  {
   "cell_type": "code",
   "execution_count": 105,
   "metadata": {},
   "outputs": [
    {
     "data": {
      "text/plain": [
       "<AxesSubplot:>"
      ]
     },
     "execution_count": 105,
     "metadata": {},
     "output_type": "execute_result"
    },
    {
     "data": {
      "image/png": "[encoded data removed]",
      "text/plain": [
       "<Figure size 432x288 with 1 Axes>"
      ]
     },
     "metadata": {
      "needs_background": "light"
     },
     "output_type": "display_data"
    }
   ],
   "source": [
    "feat_importances = pd.Series(gbr.feature_importances_, index=X_train_new.columns)\n",
    "feat_importances.nlargest(3).plot(kind='barh')"
   ]
  },
  {
   "cell_type": "markdown",
   "metadata": {},
   "source": [
    "### Задание 6.5.\n",
    "Для лучшей из построенных моделей рассчитайте медианную абсолютную ошибку (MeAE - в sklearn функция median_absolute_error) предсказания длительности поездки такси на валидационной выборке:\n",
    "$$ MeAE = median(|y_i-\\hat{y_i}|)$$\n",
    "\n",
    "Значение метрики MeAE переведите в минуты и округлите до десятых.\n"
   ]
  },
  {
   "cell_type": "code",
   "execution_count": 121,
   "metadata": {},
   "outputs": [
    {
     "name": "stdout",
     "output_type": "stream",
     "text": [
      "Valid MSE: 110.76\n"
     ]
    }
   ],
   "source": [
    "y_valid_log_exp = np.exp(y_valid_log) - 1\n",
    "y_valid_pred_exp = np.exp(y_valid_pred) - 1\n",
    "print(\"Valid MSE: {:.2f}\".format(metrics.median_absolute_error(y_valid_log_exp, y_valid_pred_exp)))"
   ]
  },
  {
   "cell_type": "code",
   "execution_count": 122,
   "metadata": {},
   "outputs": [
    {
     "data": {
      "text/plain": [
       "1.8"
      ]
     },
     "execution_count": 122,
     "metadata": {},
     "output_type": "execute_result"
    }
   ],
   "source": [
    "round(110.76/60,1)"
   ]
  },
  {
   "cell_type": "markdown",
   "metadata": {},
   "source": [
    "Финальный шаг - сделать submit -  предсказание для отложенного тестового набора данных. "
   ]
  },
  {
   "cell_type": "markdown",
   "metadata": {},
   "source": [
    "Прочитаем тестовые данные и заранее выделим столбец с идентификаторами поездок из тестового набора данных. Он нам еще пригодится:\n"
   ]
  },
  {
   "cell_type": "code",
   "execution_count": 151,
   "metadata": {},
   "outputs": [],
   "source": [
    "test_data = pd.read_csv(\"Project5_test_data.zip\")\n",
    "osrm_data_test = pd.read_csv(\"Project5_osrm_data_test.zip\")"
   ]
  },
  {
   "cell_type": "code",
   "execution_count": 154,
   "metadata": {},
   "outputs": [],
   "source": [
    "osrm_data_test = osrm_data_test[['id','total_distance','total_travel_time','number_of_steps']]"
   ]
  },
  {
   "cell_type": "markdown",
   "metadata": {},
   "source": [
    "Перед созданием прогноза для тестовой выборки необходимо произвести все манипуляции с данными, которые мы производили с тренировочной выборкой, а именно:\n",
    "* Перевести признак pickup_datetime в формат datetime;\n",
    "* Добавить новые признаки (временные, географические, погодные и другие факторы);\n",
    "* Произвести очистку данных от пропусков;\n",
    "* Произвести кодировку категориальных признаков:\n",
    "    * Закодировать бинарные признаки;\n",
    "    * Закодировать номинальные признаки с помощью обученного на тренировочной выборке OneHotEncoder’а;\n",
    "* Сформировать матрицу наблюдений, оставив в таблице только те признаки, которые были отобраны с помощью SelectKBest;\n",
    "* Нормализовать данные с помощью обученного на тренировочной выборке MinMaxScaler’а.\n"
   ]
  },
  {
   "cell_type": "code",
   "execution_count": 155,
   "metadata": {},
   "outputs": [],
   "source": [
    "test_data['pickup_datetime']=pd.to_datetime(test_data['pickup_datetime'],format='%Y-%m-%d %H:%M:%S')\n",
    "test_data = add_datetime_features(test_data)\n",
    "test_data = add_holiday_features(test_data, holiday_data)\n",
    "test_data = add_osrm_features(test_data, osrm_data_test)\n",
    "test_data = add_geographical_features(test_data)\n",
    "test_data = add_weather_features(test_data, weather_data)"
   ]
  },
  {
   "cell_type": "code",
   "execution_count": 157,
   "metadata": {},
   "outputs": [
    {
     "data": {
      "text/plain": [
       "KMeans(n_clusters=10, random_state=42)"
      ]
     },
     "execution_count": 157,
     "metadata": {},
     "output_type": "execute_result"
    }
   ],
   "source": [
    "# создаем обучающую выборку из географических координат всех точек\n",
    "coords = np.hstack((test_data[['pickup_latitude', 'pickup_longitude']],\n",
    "                    test_data[['dropoff_latitude', 'dropoff_longitude']]))\n",
    "# обучаем алгоритм кластеризации\n",
    "kmeans = cluster.KMeans(n_clusters=10, random_state=42)\n",
    "kmeans.fit(coords)"
   ]
  },
  {
   "cell_type": "code",
   "execution_count": 159,
   "metadata": {},
   "outputs": [],
   "source": [
    "test_data = add_cluster_features(test_data, kmeans)"
   ]
  },
  {
   "cell_type": "code",
   "execution_count": 160,
   "metadata": {},
   "outputs": [],
   "source": [
    "test_data['temperature'] = test_data['temperature'].fillna(\n",
    "    test_data.groupby('pickup_date')['temperature'].transform('median'))\n",
    "\n",
    "test_data['visibility'] = test_data['visibility'].fillna(\n",
    "    test_data.groupby('pickup_date')['visibility'].transform('median'))\n",
    "\n",
    "test_data['wind speed'] = test_data['wind speed'].fillna(\n",
    "    test_data.groupby('pickup_date')['wind speed'].transform('median'))\n",
    "\n",
    "test_data['precip'] = test_data['precip'].fillna(\n",
    "    test_data.groupby('pickup_date')['precip'].transform('median'))\n",
    "\n",
    "test_data['events'] = test_data['events'].fillna('None')"
   ]
  },
  {
   "cell_type": "code",
   "execution_count": 161,
   "metadata": {},
   "outputs": [],
   "source": [
    "test_data['vendor_id'] = test_data['vendor_id'].apply(lambda x: 0 if x == 1 else 1)\n",
    "test_data['store_and_fwd_flag'] = test_data['store_and_fwd_flag'].apply(lambda x: 0 if x == 'N' else 1)\n",
    "test_data_onehot = encoder.fit_transform(test_data[columns_to_change]).toarray()\n",
    "column_names = encoder.get_feature_names_out(columns_to_change)\n",
    "test_data_onehot = pd.DataFrame(test_data_onehot, columns=column_names)\n",
    "\n",
    "test_data = pd.concat(\n",
    "    [test_data.reset_index(drop=True).drop(columns_to_change, axis=1), test_data_onehot], \n",
    "    axis=1\n",
    ")"
   ]
  },
  {
   "cell_type": "code",
   "execution_count": 162,
   "metadata": {},
   "outputs": [
    {
     "name": "stdout",
     "output_type": "stream",
     "text": [
      "Shape of data: (628872, 25)\n"
     ]
    }
   ],
   "source": [
    "X_test = test_data[features_columns]\n",
    "X_test_scaled = scaler.transform(X_test)\n",
    "print('Shape of data: {}'.format(X_test.shape))"
   ]
  },
  {
   "cell_type": "markdown",
   "metadata": {},
   "source": [
    "Только после выполнения всех этих шагов можно сделать предсказание длительности поездки для тестовой выборки. Не забудьте перевести предсказания из логарифмического масштаба в истинный, используя формулу:\n",
    "$$y_i=exp(z_i)-1$$\n",
    "\n",
    "После того, как вы сформируете предсказание длительности поездок на тестовой выборке вам необходимо будет создать submission-файл в формате csv, отправить его на платформу Kaggle и посмотреть на результирующее значение метрики RMSLE на тестовой выборке.\n",
    "\n",
    "Код для создания submission-файла:\n"
   ]
  },
  {
   "cell_type": "code",
   "execution_count": 175,
   "metadata": {},
   "outputs": [
    {
     "name": "stderr",
     "output_type": "stream",
     "text": [
      "C:\\ProgramData\\Anaconda3\\lib\\site-packages\\sklearn\\base.py:451: UserWarning: X does not have valid feature names, but GradientBoostingRegressor was fitted with feature names\n",
      "  \"X does not have valid feature names, but\"\n"
     ]
    }
   ],
   "source": [
    "y_test_pred = gbr.predict(X_test_scaled)\n",
    "y_test_predict = np.exp(y_test_pred) - 1"
   ]
  },
  {
   "cell_type": "code",
   "execution_count": 176,
   "metadata": {},
   "outputs": [],
   "source": [
    "# ваш код здесь\n",
    "test_id = test_data['id']\n",
    "submission = pd.DataFrame({'id': test_id, 'trip_duration': y_test_predict})\n",
    "submission.to_csv('submission_gb.csv', index=False)"
   ]
  },
  {
   "cell_type": "markdown",
   "metadata": {},
   "source": [
    "### **В качестве бонуса**\n",
    "\n",
    "В завершение по ансамблевым мы предлагаем вам попробовать улучшить свое предсказание, воспользовавшись моделью экстремального градиентного бустинга (XGBoost) из библиотеки xgboost.\n",
    "\n",
    "**XGBoost** - современная модель машинного обучения, которая является продолжением идеи градиентного бустинга Фридмана. У нее есть несколько преимуществ по сравнению с классической моделью градиентного бустинга из библиотеки sklearn: повышенная производительность путем параллелизации процесса обучения, повышенное качество решения за счет усовершенствования алгоритма бустинга, меньшая склонность к переобучению и широкий функционал возможности управления параметрами модели.\n"
   ]
  },
  {
   "cell_type": "markdown",
   "metadata": {},
   "source": [
    "Для ее использования необходимо для начала установить пакет xgboost:"
   ]
  },
  {
   "cell_type": "code",
   "execution_count": 178,
   "metadata": {},
   "outputs": [
    {
     "name": "stdout",
     "output_type": "stream",
     "text": [
      "Collecting xgboost\n",
      "  Downloading https://files.pythonhosted.org/packages/66/88/11cbea9c7a4ebae26c16ef20c14bfca3fa5aded4b0de27ccd8482429e7bf/xgboost-1.6.1-py3-none-win_amd64.whl (125.4MB)\n",
      "Requirement already satisfied: scipy in c:\\programdata\\anaconda3\\lib\\site-packages (from xgboost) (1.7.3)\n",
      "Requirement already satisfied: numpy in c:\\programdata\\anaconda3\\lib\\site-packages (from xgboost) (1.21.5)\n",
      "Installing collected packages: xgboost\n",
      "Successfully installed xgboost-1.6.1\n"
     ]
    }
   ],
   "source": [
    "#!pip install xgboost"
   ]
  },
  {
   "cell_type": "markdown",
   "metadata": {},
   "source": [
    "После чего модуль можно импортировать:"
   ]
  },
  {
   "cell_type": "code",
   "execution_count": 179,
   "metadata": {},
   "outputs": [],
   "source": [
    "import xgboost as xgb"
   ]
  },
  {
   "cell_type": "markdown",
   "metadata": {},
   "source": [
    "Перед обучением модели необходимо перевести наборы данных в тип данных xgboost.DMatrix:"
   ]
  },
  {
   "cell_type": "code",
   "execution_count": 183,
   "metadata": {},
   "outputs": [],
   "source": [
    "# Создание матриц наблюдений в формате DMatrix\n",
    "dtrain = xgb.DMatrix(X_train_new_scaled, label=y_train_log, feature_names=features_columns)\n",
    "dvalid = xgb.DMatrix(X_valid_scaled, label=y_valid_log, feature_names=features_columns)\n",
    "dtest = xgb.DMatrix(X_test_scaled, feature_names=features_columns)"
   ]
  },
  {
   "cell_type": "markdown",
   "metadata": {},
   "source": [
    "Обучение модели XGBoost происходит с помощью метода train, в который необходимо передать параметры модели, набор данных, количество базовых моделей в ансамбле, а также дополнительные параметры:\n"
   ]
  },
  {
   "cell_type": "code",
   "execution_count": 184,
   "metadata": {},
   "outputs": [
    {
     "name": "stdout",
     "output_type": "stream",
     "text": [
      "[0]\ttrain-rmse:5.42191\tvalid-rmse:5.42359\n",
      "[10]\ttrain-rmse:1.93579\tvalid-rmse:1.93616\n",
      "[20]\ttrain-rmse:0.78598\tvalid-rmse:0.78564\n",
      "[30]\ttrain-rmse:0.48005\tvalid-rmse:0.47935\n",
      "[40]\ttrain-rmse:0.42287\tvalid-rmse:0.42224\n",
      "[50]\ttrain-rmse:0.41131\tvalid-rmse:0.41096\n",
      "[60]\ttrain-rmse:0.40634\tvalid-rmse:0.40648\n",
      "[70]\ttrain-rmse:0.40340\tvalid-rmse:0.40392\n",
      "[80]\ttrain-rmse:0.40124\tvalid-rmse:0.40209\n",
      "[90]\ttrain-rmse:0.39920\tvalid-rmse:0.40036\n",
      "[100]\ttrain-rmse:0.39738\tvalid-rmse:0.39885\n",
      "[110]\ttrain-rmse:0.39637\tvalid-rmse:0.39815\n",
      "[120]\ttrain-rmse:0.39524\tvalid-rmse:0.39723\n",
      "[130]\ttrain-rmse:0.39402\tvalid-rmse:0.39639\n",
      "[140]\ttrain-rmse:0.39303\tvalid-rmse:0.39570\n",
      "[150]\ttrain-rmse:0.39234\tvalid-rmse:0.39531\n",
      "[160]\ttrain-rmse:0.39159\tvalid-rmse:0.39492\n",
      "[170]\ttrain-rmse:0.39078\tvalid-rmse:0.39442\n",
      "[180]\ttrain-rmse:0.38981\tvalid-rmse:0.39379\n",
      "[190]\ttrain-rmse:0.38912\tvalid-rmse:0.39337\n",
      "[200]\ttrain-rmse:0.38844\tvalid-rmse:0.39296\n",
      "[210]\ttrain-rmse:0.38786\tvalid-rmse:0.39274\n",
      "[220]\ttrain-rmse:0.38721\tvalid-rmse:0.39239\n",
      "[230]\ttrain-rmse:0.38647\tvalid-rmse:0.39189\n",
      "[240]\ttrain-rmse:0.38561\tvalid-rmse:0.39132\n",
      "[250]\ttrain-rmse:0.38517\tvalid-rmse:0.39112\n",
      "[260]\ttrain-rmse:0.38454\tvalid-rmse:0.39073\n",
      "[270]\ttrain-rmse:0.38368\tvalid-rmse:0.39026\n",
      "[280]\ttrain-rmse:0.38333\tvalid-rmse:0.39018\n",
      "[290]\ttrain-rmse:0.38304\tvalid-rmse:0.39007\n",
      "[299]\ttrain-rmse:0.38264\tvalid-rmse:0.38999\n"
     ]
    }
   ],
   "source": [
    "# Гиперпараметры модели\n",
    "xgb_pars = {'min_child_weight': 20, 'eta': 0.1, 'colsample_bytree': 0.9, \n",
    "            'max_depth': 6, 'subsample': 0.9, 'lambda': 1, 'nthread': -1, \n",
    "            'booster' : 'gbtree', 'eval_metric': 'rmse', 'objective': 'reg:squarederror'\n",
    "           }\n",
    "# Тренировочная и валидационная выборка\n",
    "watchlist = [(dtrain, 'train'), (dvalid, 'valid')]\n",
    "# Обучаем модель XGBoost\n",
    "model = xgb.train(\n",
    "    params=xgb_pars, #гиперпараметры модели\n",
    "    dtrain=dtrain, #обучающая выборка\n",
    "    num_boost_round=300, #количество моделей в ансамбле\n",
    "    evals=watchlist, #выборки, на которых считается матрица\n",
    "    early_stopping_rounds=20, #раняя остановка\n",
    "    maximize=False, #смена поиска максимума на минимум\n",
    "    verbose_eval=10 #шаг, через который происходит отображение метрик\n",
    ")"
   ]
  },
  {
   "cell_type": "markdown",
   "metadata": {},
   "source": [
    "Предсказать целевой признак на новых данных можно с помощью метода predict():"
   ]
  },
  {
   "cell_type": "code",
   "execution_count": 185,
   "metadata": {},
   "outputs": [
    {
     "name": "stdout",
     "output_type": "stream",
     "text": [
      "Modeling RMSLE 0.38999\n"
     ]
    }
   ],
   "source": [
    "#Делаем предсказание на тестовом наборе данных\n",
    "y_test_predict = np.exp(model.predict(dtest)) - 1\n",
    "print('Modeling RMSLE %.5f' % model.best_score)"
   ]
  },
  {
   "cell_type": "markdown",
   "metadata": {},
   "source": [
    "Также как и все модели, основанные на использовании деревьев решений в качестве базовых моделей, XGBoost имеет возможность определения коэффициентов важности факторов. Более того, в библиотеку встроена возможность визуализации важность факторов в виде столбчатой диаграммы. За эту возможность отвечает функция plot_importance():\n"
   ]
  },
  {
   "cell_type": "code",
   "execution_count": 186,
   "metadata": {},
   "outputs": [
    {
     "data": {
      "text/plain": [
       "<AxesSubplot:title={'center':'Feature importance'}, xlabel='F score', ylabel='Features'>"
      ]
     },
     "execution_count": 186,
     "metadata": {},
     "output_type": "execute_result"
    },
    {
     "data": {
      "image/png": "[encoded data removed]",
      "text/plain": [
       "<Figure size 1080x1080 with 1 Axes>"
      ]
     },
     "metadata": {
      "needs_background": "light"
     },
     "output_type": "display_data"
    }
   ],
   "source": [
    "fig, ax = plt.subplots(figsize = (15,15))\n",
    "xgb.plot_importance(model, ax = ax, height=0.5)"
   ]
  }
 ],
 "metadata": {
  "kernelspec": {
   "display_name": "Python 3 (ipykernel)",
   "language": "python",
   "name": "python3"
  },
  "language_info": {
   "codemirror_mode": {
    "name": "ipython",
    "version": 3
   },
   "file_extension": ".py",
   "mimetype": "text/x-python",
   "name": "python",
   "nbconvert_exporter": "python",
   "pygments_lexer": "ipython3",
   "version": "3.11.5"
  }
 },
 "nbformat": 4,
 "nbformat_minor": 4
}
